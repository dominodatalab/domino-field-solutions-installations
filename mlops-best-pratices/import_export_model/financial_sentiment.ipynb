{
 "cells": [
  {
   "cell_type": "markdown",
   "id": "c93c663e",
   "metadata": {},
   "source": [
    "# Setup\n",
    "\n",
    "In particular this notebook requires an environment with the following custom dockerfile instructions:\n",
    "```\n",
    "RUN pip install mlflow==2.11.3 transformers datasets ipywidgets torch torchvision --upgrade\n",
    "\n",
    "```"
   ]
  },
  {
   "cell_type": "code",
   "execution_count": null,
   "id": "b89c63c5",
   "metadata": {},
   "outputs": [],
   "source": [
    "%matplotlib inline"
   ]
  },
  {
   "cell_type": "code",
   "execution_count": null,
   "id": "14dbaa03",
   "metadata": {},
   "outputs": [],
   "source": [
    "import os\n",
    "\n",
    "import numpy as np\n",
    "import pandas as pd\n",
    "from datasets import load_dataset, load_metric\n",
    "from huggingface_hub import notebook_login\n",
    "from matplotlib import pyplot as plt\n",
    "from transformers import (\n",
    "    AutoModelForSequenceClassification,\n",
    "    AutoTokenizer,\n",
    "    Trainer,\n",
    "    TrainingArguments,\n",
    ")\n",
    "\n",
    "import mlflow"
   ]
  },
  {
   "cell_type": "markdown",
   "id": "5d4b13f1",
   "metadata": {},
   "source": [
    "## Huggingface login\n",
    "NOTE: you need create a huggingface account if you don't already have one and use it to generate a token in the next cell"
   ]
  },
  {
   "cell_type": "code",
   "execution_count": null,
   "id": "770dade7",
   "metadata": {},
   "outputs": [],
   "source": [
    "notebook_login()"
   ]
  },
  {
   "cell_type": "code",
   "execution_count": null,
   "id": "b906d527",
   "metadata": {},
   "outputs": [],
   "source": [
    "!git config --global credential.helper store"
   ]
  },
  {
   "cell_type": "code",
   "execution_count": null,
   "id": "8b7f5a2a",
   "metadata": {},
   "outputs": [],
   "source": [
    "model = AutoModelForSequenceClassification.from_pretrained(\"mrm8488/distilroberta-finetuned-financial-news-sentiment-analysis\")\n"
   ]
  },
  {
   "cell_type": "code",
   "execution_count": null,
   "id": "891c761a",
   "metadata": {},
   "outputs": [],
   "source": [
    "from mlflow.store.artifact.runs_artifact_repo import RunsArtifactRepository\n",
    "from mlflow import MlflowClient\n",
    "\n",
    "client = MlflowClient()\n",
    "\n",
    "model_name = \"financial-news-sentiment-analysis\"\n",
    "#registered_model = client.create_registered_model(model_name)\n",
    "with mlflow.start_run() as run:\n",
    "    model_info = mlflow.pytorch.log_model(model, \"model\")\n",
    "    \n",
    "    runs_uri = model_info.model_uri\n",
    "    \n",
    "    # Create a new model version of the RandomForestRegression model from this run\n",
    "    desc = \"Pretrained Sentiment Analysis model from mrm8488/distilroberta-finetuned-financial-news-sentiment-analysis\"\n",
    "    model_src = RunsArtifactRepository.get_underlying_uri(runs_uri)\n",
    "    mv = client.create_model_version(model_name, model_src, run.info.run_id, description=desc)\n",
    "    print(\"Name: {}\".format(mv.name))\n",
    "    print(\"Version: {}\".format(mv.version))\n",
    "    print(\"Description: {}\".format(mv.description))\n",
    "    print(\"Status: {}\".format(mv.status))\n",
    "    print(\"Stage: {}\".format(mv.current_stage))"
   ]
  },
  {
   "cell_type": "code",
   "execution_count": null,
   "id": "77dda85c",
   "metadata": {},
   "outputs": [],
   "source": [
    "print(mv)"
   ]
  },
  {
   "cell_type": "code",
   "execution_count": null,
   "id": "de229e7a",
   "metadata": {},
   "outputs": [],
   "source": [
    "from transformers import RobertaTokenizer\n",
    "tokenizer = RobertaTokenizer.from_pretrained('roberta-base')\n",
    "text = \"I am very excited today.\"\n",
    "encoded_input = tokenizer(text, return_tensors='pt')\n",
    "output = model(**encoded_input)\n",
    "\n",
    "print(output)"
   ]
  },
  {
   "cell_type": "code",
   "execution_count": null,
   "id": "da106718",
   "metadata": {},
   "outputs": [],
   "source": [
    "from transformers import pipeline\n",
    "classification = pipeline('text-classification', model=model, tokenizer=tokenizer)\n",
    "\n",
    "model_name = \"financial-news-sentiment-analysis-classification\"\n",
    "#registered_model = client.create_registered_model(model_name)\n",
    "with mlflow.start_run() as run:\n",
    "    model_info = mlflow.transformers.log_model(classification, \"model\")\n",
    "    \n",
    "    runs_uri = model_info.model_uri\n",
    "    \n",
    "    # Create a new model version of the RandomForestRegression model from this run\n",
    "    desc = \"Pretrained Sentiment Analysis model from mrm8488/distilroberta-finetuned-financial-news-sentiment-analysis -- text classifier\"\n",
    "    model_src = RunsArtifactRepository.get_underlying_uri(runs_uri)\n",
    "    mv = client.create_model_version(model_name, model_src, run.info.run_id, description=desc)\n",
    "    print(\"Name: {}\".format(mv.name))\n",
    "    print(\"Version: {}\".format(mv.version))\n",
    "    print(\"Description: {}\".format(mv.description))\n",
    "    print(\"Status: {}\".format(mv.status))\n",
    "    print(\"Stage: {}\".format(mv.current_stage))\n"
   ]
  },
  {
   "cell_type": "code",
   "execution_count": null,
   "id": "2e4ef654",
   "metadata": {},
   "outputs": [],
   "source": [
    "print(mv)"
   ]
  },
  {
   "cell_type": "code",
   "execution_count": null,
   "id": "371c799d",
   "metadata": {},
   "outputs": [],
   "source": [
    "classification(text)"
   ]
  },
  {
   "cell_type": "code",
   "execution_count": null,
   "id": "8c1987ac",
   "metadata": {},
   "outputs": [],
   "source": []
  }
 ],
 "metadata": {
  "dca-init": true,
  "kernelspec": {
   "display_name": "Python 3 (ipykernel)",
   "language": "python",
   "name": "python3"
  },
  "language_info": {
   "codemirror_mode": {
    "name": "ipython",
    "version": 3
   },
   "file_extension": ".py",
   "mimetype": "text/x-python",
   "name": "python",
   "nbconvert_exporter": "python",
   "pygments_lexer": "ipython3",
   "version": "3.9.16"
  }
 },
 "nbformat": 4,
 "nbformat_minor": 5
}
