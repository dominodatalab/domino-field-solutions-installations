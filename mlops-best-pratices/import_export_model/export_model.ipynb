{
 "cells": [
  {
   "cell_type": "markdown",
   "id": "c93c663e",
   "metadata": {},
   "source": [
    "# Model Export Example"
   ]
  },
  {
   "cell_type": "code",
   "execution_count": 1,
   "id": "4585f793",
   "metadata": {},
   "outputs": [],
   "source": [
    "import mlflow\n",
    "from mlflow import MlflowClient\n",
    "\n",
    "client = MlflowClient()"
   ]
  },
  {
   "cell_type": "code",
   "execution_count": 2,
   "id": "8c1987ac",
   "metadata": {},
   "outputs": [
    {
     "name": "stdout",
     "output_type": "stream",
     "text": [
      "<ModelVersion: aliases=[], creation_timestamp=1713971328539, current_stage='None', description=('Pretrained Sentiment Analysis model from '\n",
      " 'mrm8488/distilroberta-finetuned-financial-news-sentiment-analysis -- text '\n",
      " 'classifier'), last_updated_timestamp=1713971328539, name='financial-news-sentiment-analysis-classification', run_id='775ac9eb05e94083847e9c4d8ec11282', run_link='', source='mlflow-artifacts:/mlflow/775ac9eb05e94083847e9c4d8ec11282/artifacts/model', status='READY', status_message='', tags={'mlflow.domino.dataset_info': '6629196cebb10723289f2818-6629196cebb10723289f2817',\n",
      " 'mlflow.domino.environment_id': '66291b9802f10517f93b8217',\n",
      " 'mlflow.domino.environment_revision_id': '66291d0e02f10517f93b821d',\n",
      " 'mlflow.domino.hardware_tier': 'small-k8s',\n",
      " 'mlflow.domino.project_id': '6629196bebb10723289f2813',\n",
      " 'mlflow.domino.project_name': 'domino-field-solutions-installations',\n",
      " 'mlflow.domino.run_id': '66291f8bebb10723289f282f',\n",
      " 'mlflow.domino.run_number': '2',\n",
      " 'mlflow.domino.user': 'david_mcwhorter',\n",
      " 'mlflow.domino.user_id': '65045b5cc6761b2530d6a92b',\n",
      " 'mlflow.source.type': 'NOTEBOOK',\n",
      " 'mlflow.user': 'david_mcwhorter'}, user_id='', version='1'>\n"
     ]
    }
   ],
   "source": [
    "model_name = \"financial-news-sentiment-analysis-classification\"\n",
    "model_version = 1\n",
    "\n",
    "mv = client.get_model_version(model_name, model_version)\n",
    "\n",
    "print(mv)"
   ]
  },
  {
   "cell_type": "code",
   "execution_count": 3,
   "id": "ed6cbb8c",
   "metadata": {},
   "outputs": [
    {
     "name": "stdout",
     "output_type": "stream",
     "text": [
      "total 40\r\n",
      "drwxr-sr-x 4 ubuntu ubuntu 4096 Apr 24 15:19 .\r\n",
      "drwxrwsr-x 5 ubuntu ubuntu 4096 Apr 24 15:19 ..\r\n",
      "drwxr-sr-x 3 ubuntu ubuntu 4096 Apr 24 15:19 components\r\n",
      "-rw-r--r-- 1 ubuntu ubuntu  402 Apr 24 15:19 conda.yaml\r\n",
      "-rw-r--r-- 1 ubuntu ubuntu  866 Apr 24 15:19 MLmodel\r\n",
      "-rw-r--r-- 1 ubuntu ubuntu  688 Apr 24 15:19 model_card_data.yaml\r\n",
      "-rw-r--r-- 1 ubuntu ubuntu 2405 Apr 24 15:19 model_card.md\r\n",
      "drwxr-sr-x 2 ubuntu ubuntu 4096 Apr 24 15:19 pipeline\r\n",
      "-rw-r--r-- 1 ubuntu ubuntu  122 Apr 24 15:19 python_env.yaml\r\n",
      "-rw-r--r-- 1 ubuntu ubuntu  245 Apr 24 15:19 requirements.txt\r\n"
     ]
    }
   ],
   "source": [
    "dst_path = \"../../../artifacts\"\n",
    "\n",
    "downloaded_artifacts_path = mlflow.artifacts.download_artifacts(artifact_uri=mv.source, dst_path=dst_path)\n",
    "\n",
    "!ls -la $downloaded_artifacts_path"
   ]
  },
  {
   "cell_type": "markdown",
   "id": "8609f5c4",
   "metadata": {},
   "source": [
    "# now do something else with the downloaded model artifacts, like upload to s3"
   ]
  },
  {
   "cell_type": "code",
   "execution_count": null,
   "id": "6e6d57f8",
   "metadata": {},
   "outputs": [],
   "source": []
  }
 ],
 "metadata": {
  "dca-init": true,
  "kernelspec": {
   "display_name": "Python 3 (ipykernel)",
   "language": "python",
   "name": "python3"
  },
  "language_info": {
   "codemirror_mode": {
    "name": "ipython",
    "version": 3
   },
   "file_extension": ".py",
   "mimetype": "text/x-python",
   "name": "python",
   "nbconvert_exporter": "python",
   "pygments_lexer": "ipython3",
   "version": "3.9.16"
  }
 },
 "nbformat": 4,
 "nbformat_minor": 5
}
