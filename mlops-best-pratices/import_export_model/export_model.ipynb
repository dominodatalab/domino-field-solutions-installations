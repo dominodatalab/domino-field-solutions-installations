{
 "cells": [
  {
   "cell_type": "markdown",
   "id": "c93c663e",
   "metadata": {},
   "source": [
    "# Model Export Example"
   ]
  },
  {
   "cell_type": "code",
   "execution_count": null,
   "id": "4585f793",
   "metadata": {},
   "outputs": [],
   "source": [
    "import mlflow\n",
    "from mlflow import MlflowClient\n",
    "\n",
    "client = MlflowClient()"
   ]
  },
  {
   "cell_type": "code",
   "execution_count": null,
   "id": "8c1987ac",
   "metadata": {},
   "outputs": [],
   "source": [
    "model_name = \"financial-news-sentiment-analysis-classification\"\n",
    "model_version = 2\n",
    "\n",
    "mv = client.get_model_version(model_name, model_version)\n",
    "\n",
    "print(mv)"
   ]
  },
  {
   "cell_type": "code",
   "execution_count": null,
   "id": "ed6cbb8c",
   "metadata": {},
   "outputs": [],
   "source": [
    "dst_path = \"../../../artifacts\"\n",
    "\n",
    "downloaded_artifacts_path = mlflow.artifacts.download_artifacts(artifact_uri=mv.source, dst_path=dst_path)\n",
    "\n",
    "!ls -la $downloaded_artifacts_path"
   ]
  },
  {
   "cell_type": "markdown",
   "id": "8609f5c4",
   "metadata": {},
   "source": [
    "# now do something else with the downloaded model artifacts, like upload to s3"
   ]
  },
  {
   "cell_type": "code",
   "execution_count": null,
   "id": "6e6d57f8",
   "metadata": {},
   "outputs": [],
   "source": []
  }
 ],
 "metadata": {
  "dca-init": true,
  "kernelspec": {
   "display_name": "Python 3 (ipykernel)",
   "language": "python",
   "name": "python3"
  },
  "language_info": {
   "codemirror_mode": {
    "name": "ipython",
    "version": 3
   },
   "file_extension": ".py",
   "mimetype": "text/x-python",
   "name": "python",
   "nbconvert_exporter": "python",
   "pygments_lexer": "ipython3",
   "version": "3.9.16"
  }
 },
 "nbformat": 4,
 "nbformat_minor": 5
}
