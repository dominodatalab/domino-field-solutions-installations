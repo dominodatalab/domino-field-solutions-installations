{
 "cells": [
  {
   "cell_type": "markdown",
   "id": "ebb6af9d-afb5-4595-9ad4-a7a2c1ca1e18",
   "metadata": {},
   "source": [
    "## Get mappings\n"
   ]
  },
  {
   "cell_type": "markdown",
   "id": "e4a0f208-d459-405f-815c-d49609b41d00",
   "metadata": {},
   "source": [
    "### Verify the services are running\n"
   ]
  },
  {
   "cell_type": "code",
   "execution_count": 1,
   "id": "7fe6dfce-aa34-4a77-98db-2e17fd62fd91",
   "metadata": {
    "tags": []
   },
   "outputs": [
    {
     "name": "stdout",
     "output_type": "stream",
     "text": [
      "{'status': 'Healthy'}"
     ]
    }
   ],
   "source": [
    "#First let us verify that the IRSA backend service is running\n",
    "!curl -k https://irsa-svc.domino-field/healthz"
   ]
  },
  {
   "cell_type": "markdown",
   "id": "aeed097e-faf2-4120-89df-7c250aad68b3",
   "metadata": {},
   "source": [
    "## Get My Mappings (All users can make this call)\n",
    "```\n",
    "GET https://irsa-svc.domino-field/my_role_mappings\n",
    "```\n",
    "\n",
    "It will return a list of Domino Organizations along with the corresponding AWS ROLE and the AWS Proxy Role the user is assigned to. The user can assume any of these AWS role. The actual role is assumed via the proxy aws role."
   ]
  },
  {
   "cell_type": "code",
   "execution_count": 2,
   "id": "35cfdec0-c1e1-4b13-b849-b5900af75412",
   "metadata": {
    "tags": []
   },
   "outputs": [
    {
     "name": "stdout",
     "output_type": "stream",
     "text": [
      "{\"my_role_mappings\":{}}\n",
      "\n"
     ]
    },
    {
     "name": "stderr",
     "output_type": "stream",
     "text": [
      "/opt/conda/lib/python3.10/site-packages/urllib3/connectionpool.py:1061: InsecureRequestWarning: Unverified HTTPS request is being made to host 'irsa-svc.domino-field'. Adding certificate verification is strongly advised. See: https://urllib3.readthedocs.io/en/1.26.x/advanced-usage.html#ssl-warnings\n",
      "  warnings.warn(\n"
     ]
    }
   ],
   "source": [
    "#Fetch my mappings (Any user can do this)\n",
    "import requests\n",
    "import os\n",
    "access_token_endpoint='http://localhost:8899/access-token'\n",
    "resp = requests.get(access_token_endpoint)\n",
    "\n",
    "\n",
    "token = resp.text\n",
    "headers = {\n",
    "             \"Content-Type\": \"application/json\",\n",
    "             \"Authorization\": \"Bearer \" + token,\n",
    "        }\n",
    "endpoint='https://irsa-svc.domino-field/my_role_mappings'\n",
    "resp = requests.get(endpoint,headers=headers,verify=False)\n",
    "print(resp.text)\n"
   ]
  },
  {
   "cell_type": "markdown",
   "id": "69950afa-140d-4ea0-b320-3af43e1b145d",
   "metadata": {},
   "source": [
    "## Get All Mappings (Only Domino Administrators can make this call)\n",
    "```\n",
    "GET https://irsa-svc.domino-field/role_mappings\n",
    "```\n",
    "\n",
    "It will return a list of Domino Organizations along with the corresponding AWS ROLE and the AWS Proxy Role the user is assigned to. The user can assume any of these AWS role. The actual role is assumed via the proxy aws role."
   ]
  },
  {
   "cell_type": "code",
   "execution_count": 4,
   "id": "ba5e6fda-fb18-4662-85a4-132d70f8a028",
   "metadata": {
    "tags": []
   },
   "outputs": [
    {
     "name": "stdout",
     "output_type": "stream",
     "text": [
      "{\"all_role_mappings\":{\"irsa-iamrole-list-bucket\":{\"iam_role_arn\":\"arn:aws:iam::524112250363:role/acme-list-bucket-role\",\"proxy_iam_role_arn\":\"arn:aws:iam::946429944765:role/acme-list-bucket-role\",\"update_iam_role_trust_policy\":true},\"irsa-iamrole-read-bucket\":{\"iam_role_arn\":\"arn:aws:iam::524112250363:role/acme-read-bucket-role\",\"proxy_iam_role_arn\":\"arn:aws:iam::946429944765:role/acme-read-bucket-role\",\"update_iam_role_trust_policy\":true},\"irsa-iamrole-update-bucket\":{\"iam_role_arn\":\"arn:aws:iam::524112250363:role/acme-update-bucket-role\",\"proxy_iam_role_arn\":\"arn:aws:iam::946429944765:role/acme-update-bucket-role\",\"update_iam_role_trust_policy\":true}}}\n",
      "\n"
     ]
    },
    {
     "name": "stderr",
     "output_type": "stream",
     "text": [
      "/opt/conda/lib/python3.10/site-packages/urllib3/connectionpool.py:1061: InsecureRequestWarning: Unverified HTTPS request is being made to host 'irsa-svc.domino-field'. Adding certificate verification is strongly advised. See: https://urllib3.readthedocs.io/en/1.26.x/advanced-usage.html#ssl-warnings\n",
      "  warnings.warn(\n"
     ]
    }
   ],
   "source": [
    "#Fetch my mappings (Any user can do this)\n",
    "import requests\n",
    "import os\n",
    "access_token_endpoint='http://localhost:8899/access-token'\n",
    "resp = requests.get(access_token_endpoint)\n",
    "\n",
    "\n",
    "token = resp.text\n",
    "headers = {\n",
    "             \"Content-Type\": \"application/json\",\n",
    "             \"Authorization\": \"Bearer \" + token,\n",
    "        }\n",
    "\n",
    "\n",
    "endpoint='https://irsa-svc.domino-field/role_mappings'\n",
    "resp = requests.get(endpoint,headers=headers,verify=False)\n",
    "\n",
    "print(resp.text)"
   ]
  },
  {
   "cell_type": "code",
   "execution_count": null,
   "id": "902d8c3d-8335-4ed9-a765-86ce6885ad87",
   "metadata": {
    "tags": []
   },
   "outputs": [],
   "source": []
  },
  {
   "cell_type": "markdown",
   "id": "540c4955-6468-4d07-abf2-bc913c2f9b98",
   "metadata": {
    "tags": []
   },
   "source": [
    "## Add/Update Role Mapping (Only Domino Administrators can make this call)\n",
    "```\n",
    "POST https://irsa-svc.domino-field/update_role_mapping\n",
    "```\n",
    "\n",
    "This endpoint adds a mapping between a Domino Organization, AWS Role (the user will assume) and the Proxy AWS Role through which the AWS role is assumed.\n",
    "The payload takes the following form:\n",
    "```json\n",
    "{\n",
    "    \"domino_org\":\"my_test_org\",\n",
    "    \"iam_role_arn\":\"arn:aws:iam::<ASSETS_ACCOUNT_NO>:role/test-role\",\n",
    "    \"proxy_iam_role_arn\":\"arn:aws:iam::<EKS_ACCOUNT_NO>:role/test-role\"\n",
    "}\n",
    "```\n",
    "**Note**: The proxy role is required for scaling to a large number of workloads. If the EKS Cluster and aws assets are in the same account, the aws account numbers for the two roles will be the same\n",
    "\n",
    "**Note**: The endpoint does not check if the organization name is valid. Make sure you add a valid organization (even if after running the endpoint)proxy_iam_role"
   ]
  },
  {
   "cell_type": "code",
   "execution_count": 2,
   "id": "a1547be7-f146-48f7-a2df-f706dba88923",
   "metadata": {
    "tags": []
   },
   "outputs": [
    {
     "name": "stderr",
     "output_type": "stream",
     "text": [
      "/opt/conda/lib/python3.10/site-packages/urllib3/connectionpool.py:1061: InsecureRequestWarning: Unverified HTTPS request is being made to host 'irsa-svc.domino-field'. Adding certificate verification is strongly advised. See: https://urllib3.readthedocs.io/en/1.26.x/advanced-usage.html#ssl-warnings\n",
      "  warnings.warn(\n",
      "/opt/conda/lib/python3.10/site-packages/urllib3/connectionpool.py:1061: InsecureRequestWarning: Unverified HTTPS request is being made to host 'irsa-svc.domino-field'. Adding certificate verification is strongly advised. See: https://urllib3.readthedocs.io/en/1.26.x/advanced-usage.html#ssl-warnings\n",
      "  warnings.warn(\n",
      "/opt/conda/lib/python3.10/site-packages/urllib3/connectionpool.py:1061: InsecureRequestWarning: Unverified HTTPS request is being made to host 'irsa-svc.domino-field'. Adding certificate verification is strongly advised. See: https://urllib3.readthedocs.io/en/1.26.x/advanced-usage.html#ssl-warnings\n",
      "  warnings.warn(\n"
     ]
    }
   ],
   "source": [
    "EKS_ACCOUNT_NO=\"ADD\"\n",
    "ASSETS_ACCOUNT_NO=\"ADD\"\n",
    "#Fetch my mappings (Any user can do this)\n",
    "import requests\n",
    "import os\n",
    "access_token_endpoint='http://localhost:8899/access-token'\n",
    "resp = requests.get(access_token_endpoint)\n",
    "\n",
    "\n",
    "token = resp.text\n",
    "headers = {\n",
    "             \"Content-Type\": \"application/json\",\n",
    "             \"Authorization\": \"Bearer \" + token,\n",
    "        }\n",
    "\n",
    "\n",
    "endpoint='https://irsa-svc.domino-field/update_role_mapping'\n",
    "body={\n",
    "    \"domino_org\":\"irsa-iamrole-list-bucket\",\n",
    "    \"iam_role_arn\":f\"arn:aws:iam::{ASSETS_ACCOUNT_NO}:role/acme-list-bucket-role\",\n",
    "    \"proxy_iam_role_arn\":f\"arn:aws:iam::{EKS_ACCOUNT_NO}:role/acme-list-bucket-role\",\n",
    "    \"update_iam_role_trust_policy\": True\n",
    "}\n",
    "resp = requests.post(endpoint,headers=headers,json=body,verify=False)\n",
    "body={\n",
    "    \"domino_org\":\"irsa-iamrole-read-bucket\",\n",
    "    \"iam_role_arn\":f\"arn:aws:iam::{ASSETS_ACCOUNT_NO}:role/acme-read-bucket-role\",\n",
    "    \"proxy_iam_role_arn\":f\"arn:aws:iam::{EKS_ACCOUNT_NO}:role/acme-read-bucket-role\",\n",
    "    \"update_iam_role_trust_policy\": True\n",
    "}\n",
    "resp = requests.post(endpoint,headers=headers,json=body,verify=False)\n",
    "body={\n",
    "    \"domino_org\":\"irsa-iamrole-update-bucket\",\n",
    "    \"iam_role_arn\":f\"arn:aws:iam::{ASSETS_ACCOUNT_NO}:role/acme-update-bucket-role\",\n",
    "    \"proxy_iam_role_arn\":f\"arn:aws:iam::{EKS_ACCOUNT_NO}:role/acme-update-bucket-role\",\n",
    "    \"update_iam_role_trust_policy\": True\n",
    "}\n",
    "resp = requests.post(endpoint,headers=headers,json=body,verify=False)\n",
    "\n"
   ]
  },
  {
   "cell_type": "markdown",
   "id": "84a48674-c106-4c99-8992-b28818619449",
   "metadata": {},
   "source": [
    "## Delete Role Mapping (Only Domino Administrators can make this call)\n",
    "```\n",
    "DELETE https://irsa-svc.domino-field/delete_role_mapping\n",
    "```\n",
    "\n",
    "This endpoint adds a mapping between a Domino Organization, AWS Role (the user will assume) and the Proxy AWS Role through which the AWS role is assumed.\n",
    "The payload takes the following form:\n",
    "```json\n",
    "{\n",
    "    \"domino_org\":\"my_test_org\"\n",
    "}\n",
    "```\n"
   ]
  },
  {
   "cell_type": "code",
   "execution_count": null,
   "id": "e31a20c3-b4ba-47bb-82c4-7214ec046409",
   "metadata": {
    "tags": []
   },
   "outputs": [],
   "source": [
    "#Fetch my mappings (Any user can do this)\n",
    "import requests\n",
    "import os\n",
    "access_token_endpoint='http://localhost:8899/access-token'\n",
    "resp = requests.get(access_token_endpoint)\n",
    "\n",
    "\n",
    "token = resp.text\n",
    "headers = {\n",
    "             \"Content-Type\": \"application/json\",\n",
    "             \"Authorization\": \"Bearer \" + token,\n",
    "        }\n",
    "\n",
    "\n",
    "endpoint='https://irsa-svc.domino-field/delete_role_mapping'\n",
    "body={\n",
    "    \"domino_org\":\"my_test_org\"\n",
    "}\n",
    "resp = requests.delete(endpoint,headers=headers,json=body,verify=False)\n",
    "\n",
    "print(resp.text)"
   ]
  },
  {
   "cell_type": "markdown",
   "id": "371e8953-d89f-423e-ab01-880630c0d315",
   "metadata": {},
   "source": [
    "## Web Identity Token\n",
    "A Web Identity Token is how your workspace authenticates to AWS IAM. It is injected into your workspace via a `domsed` mutation.\n",
    "\n",
    "```yaml\n",
    "  - name: aws-user-token\n",
    "    projected:\n",
    "      defaultMode: 422\n",
    "      sources:\n",
    "      - serviceAccountToken:\n",
    "          path: token\n",
    "          expirationSeconds: 86400\n",
    "          audience: sts.amazonaws.com\n",
    "```\n",
    "\n",
    "Note that this token expires every 24 hours. We can and should make this shorter in a production deploymen. K8s rotates\n",
    "this token 5 mins prior to expiry. If this token is compromised the attacker can use it to assume roles in the AWS\n",
    "account using just an `.aws/config` file which matches the one in the workspace from which this token was stolen.\n",
    "\n",
    "The mutation also injects to AWS specific environment variables\n",
    "1. AWS_WEB_IDENTITY_TOKEN_FILE\n",
    "2. AWS_CONFIG_FILE"
   ]
  },
  {
   "cell_type": "code",
   "execution_count": null,
   "id": "e2ab7b18-64e0-4411-9f5f-bbffac2ca126",
   "metadata": {
    "tags": []
   },
   "outputs": [],
   "source": [
    "!cat $AWS_WEB_IDENTITY_TOKEN_FILE"
   ]
  },
  {
   "cell_type": "markdown",
   "id": "12be5b9b-7d0f-41b3-9c67-5eb27f73b91f",
   "metadata": {},
   "source": [
    "Now go to www.jwt.io and paste the above token. Note the `iss`. This is the token that boto3 api uses to implicitly authenticate with IAM. This occurs implicitly when the `AWS_WEB_IDENTITY_TOKEN_FILE` environment variable set.\n",
    "\n",
    "Note the `iss`. This is the token that boto3 api uses to implicitly authenticate with IAM. This occurs implicitly when the `AWS_WEB_IDENTITY_TOKEN_FILE` environment variable set.\n",
    "\n",
    "Note the `sub` is `system:serviceaccount:domino-compute:run-$DOMINO_RUN_ID` (your workspace service account is same as your run-id)\n",
    "[Ex. `system:serviceaccount:domino-compute:run-646d27b817c28b5ea4b5b0c1`] \n",
    "\n",
    "`system:serviceaccount:domino-compute:run-646d27b817c28b5ea4b5b0c1` (your workspace service account) . This will be important later.\n",
    "\n",
    "```json\n",
    "{\n",
    "  \"aud\": [\n",
    "    \"sts.amazonaws.com\"\n",
    "  ],\n",
    "  \"exp\": 1685030736,\n",
    "  \"iat\": 1684944336,\n",
    "  \"iss\": \"https://oidc.eks.us-west-2.amazonaws.com/id/xxxx\",\n",
    "  \"kubernetes.io\": {\n",
    "    \"namespace\": \"domino-compute\",\n",
    "    \"pod\": {\n",
    "      \"name\": \"run-646d27b817c28b5ea4b5b0c1-fxc2q\",\n",
    "      \"uid\": \"63e373b0-4d62-4860-a329-baec1afcd3f8\"\n",
    "    },\n",
    "    \"serviceaccount\": {\n",
    "      \"name\": \"run-646d27b817c28b5ea4b5b0c1\",\n",
    "      \"uid\": \"ed97cfcf-58c6-4c1e-8929-71ff9bc335aa\"\n",
    "    }\n",
    "  },\n",
    "  \"nbf\": 1684944336,\n",
    "  \"sub\": \"system:serviceaccount:domino-compute:run-646d27b817c28b5ea4b5b0c1\"\n",
    "}\n",
    "```"
   ]
  },
  {
   "cell_type": "markdown",
   "id": "2e562c33-12e7-48a6-8679-821f2450acf4",
   "metadata": {},
   "source": [
    "### AWS Config File\n",
    "\n",
    "The `boto3` library looks for the config file in the following location `$AWS_CONFIG_FILE` which in your workspace\n",
    "is set to `/var/run/.aws/config`"
   ]
  },
  {
   "cell_type": "code",
   "execution_count": null,
   "id": "a7b2e165-af33-4f94-a960-9b7ef8bb0654",
   "metadata": {
    "tags": []
   },
   "outputs": [],
   "source": [
    "!cat $AWS_CONFIG_FILE"
   ]
  },
  {
   "cell_type": "markdown",
   "id": "676ba3d8-9474-481c-88c1-2fe55cf083ad",
   "metadata": {},
   "source": [
    "This is file is created by the side-car container during startup. You can always refresh it using the command \n",
    "```shell\n",
    "curl http://localhost:6003/refresh\n",
    "```\n",
    "\n",
    "\n",
    "For each profile in the asset account there is a corresponding role in the eks account\n",
    "\n",
    "| AWS Profile (Asset Account)     | SRC AWS Profile (EKS Account) |\n",
    "| ----------- | ----------- |\n",
    "| `acme-list-bucket-role`      | `src_acme-list-bucket-role`       |\n",
    "| `acme-read-bucket-role`  | `src_acme-read-bucket-role`       |\n",
    "| `acme-update-bucket-role`   | `src_acme-read-bucket-role`       |\n",
    "\n",
    "An example `src` profile looks like this:\n",
    "\n",
    "```shell\n",
    "[profile src_acme-list-bucket-role]\n",
    "web_identity_token_file = /var/run/secrets/eks.amazonaws.com/serviceaccount/token\n",
    "role_arn=arn:aws:iam::<EKS_ACCOUNT_NO>:role/acme-list-bucket-role\n",
    "```\n",
    "The corresponding asset profile looks like this:\n",
    "\n",
    "```shell\n",
    "[profile acme-list-bucket-role]\n",
    "source_profile = src_acme-list-bucket-role\n",
    "role_arn=arn:aws:iam::<ASSETS_ACCOUNT_NO>:role/acme-list-bucket-role\n",
    "```\n",
    "\n",
    "When the user assumes the asset profile `acme-list-bucket-role` it knows its `source_profile` is `src_acme-list-bucket-role`\n",
    "\n",
    "The `src_acme-list-bucket-role` uses the `web_identity_token_file` to authenticate with AWS IAM which already has \n",
    "a trust relationship established with the OIDC provider who issues the web identity token. It uses this to assume the role\n",
    "`role_arn` in the source profile `aws:iam::<EKS_ACCOUNT_NO>:role/acme-list-bucket-role`\n",
    "\n",
    "The `aws:iam::<EKS_ACCOUNT_NO>:role/acme-list-bucket-role` in turn tries to assume the role `arn:aws:iam::<ASSETS_ACCOUNT_NO>:role/acme-list-bucket-role`\n",
    "which is listed as the `role_arn` in the `[profile acme-list-bucket-role]`"
   ]
  },
  {
   "cell_type": "markdown",
   "id": "f7d1a08a-dfdb-4f29-aa01-0969ca7f8519",
   "metadata": {},
   "source": [
    "### Bringing it all together\n",
    "\n",
    "When the workspace starts up, the side-car invokes the backend IRSA service using the following code-snippet"
   ]
  },
  {
   "cell_type": "code",
   "execution_count": null,
   "id": "a108a879-5527-496d-a037-24d28e4da830",
   "metadata": {
    "tags": []
   },
   "outputs": [],
   "source": [
    "! pip install jproperties\n",
    "#Emulate Side-Car\n",
    "import requests\n",
    "import os\n",
    "from jproperties import Properties\n",
    "access_token_endpoint='http://localhost:8899/access-token'\n",
    "resp = requests.get(access_token_endpoint)\n",
    "\n",
    "pod_info = os.environ.get(\"POD_INFO_PATH\")\n",
    "configs = Properties()\n",
    "with open(pod_info, \"rb\") as f:\n",
    "        configs.load(f)\n",
    "\n",
    "workload_type=configs.get('dominodatalab.com/irsa-workload-type','').data.strip('\"')\n",
    "\n",
    "os.environ['SSL_CERT_DIR']='/etc/ssl/certs/irsa'\n",
    "token = resp.text\n",
    "headers = {\n",
    "             \"Content-Type\": \"application/json\",\n",
    "             \"Authorization\": \"Bearer \" + token,\n",
    "        }\n",
    "endpoint='https://irsa-svc.domino-field/map_iam_roles_to_pod_sa'\n",
    "print(f\"Domino Run Id{os.environ['DOMINO_RUN_ID']}\")\n",
    "data = {\"run_id\": os.environ['DOMINO_RUN_ID'],\"irsa_workload_type\": workload_type} ## It fetches this fom the downward api\n",
    "resp = requests.post(endpoint,headers=headers,json=data,verify=os.environ['DOMINO_IRSA_SSL_CERT'])\n",
    "resp.text"
   ]
  },
  {
   "cell_type": "markdown",
   "id": "919fa85d-d7c1-401b-850b-c38a651c3abd",
   "metadata": {},
   "source": [
    "The backend IRSA service updates the trust policy file attached to each of the source roles being added to the config file.\n",
    "The trust policy will look like this:\n",
    "```json\n",
    "{\n",
    "    \"Version\": \"2012-10-17\",\n",
    "    \"Statement\": [\n",
    "        {\n",
    "            \"Effect\": \"Allow\",\n",
    "            \"Principal\": {\n",
    "                \"Federated\": \"arn:aws:iam::<EKS_ACCOUNT>:oidc-provider/oidc.eks.us-west-2.amazonaws.com/id/<OIDC_PROVIDER_ID>\"\n",
    "            },\n",
    "            \"Action\": \"sts:AssumeRoleWithWebIdentity\",\n",
    "            \"Condition\": {\n",
    "                \"StringLike\": {\n",
    "                    \"oidc.eks.us-west-2.amazonaws.com/id/<OIDC_PROVIDER_ID>:aud\": \"sts.amazonaws.com\",\n",
    "                    \"oidc.eks.us-west-2.amazonaws.com/id/<OIDC_PROVIDER_ID>:sub\": [\n",
    "                        \"*:domino-compute:run-646d27b817c28b5ea4b5b0c1\",\n",
    "                        \"*:domino-compute:run-646f604955daf764547c5b77\"\n",
    "                    ]\n",
    "                }\n",
    "            }\n",
    "        }\n",
    "    ]\n",
    "}\n",
    "```\n",
    "\n",
    "Note the `aud` and `sub` fields. This is the reason why the `src_acme-list-bucket-role` profile can assume the role\n",
    "`arn:aws:iam::<EKS_ACCOUNT_NO>:role/acme-list-bucket-role`. If you remove the entries for your workspace from the trust policy,\n",
    "the web identity token can authenticate with the AWS IAM but IAM will not allow it to assume the role.\n",
    "\n",
    "Last each of the roles in the EKS Account have the following policies attached to them:\n",
    "\n",
    "| Role    | Policies  |\n",
    "| ----------- | ----------- |\n",
    "| `acme-list-bucket-role`      | `acme-list-bucket-policy`       |\n",
    "| `acme-read-bucket-role`  | `acme-read-bucket-policy`       |\n",
    "| `acme-update-bucket-role`   | `acme-read-bucket-policy`       |\n",
    "\n",
    "`acme-list-bucket-policy` looks like this:\n",
    "```json\n",
    "{\n",
    "    \"Version\": \"2012-10-17\",\n",
    "    \"Statement\": [\n",
    "        {\n",
    "            \"Effect\": \"Allow\",\n",
    "            \"Action\": \"sts:AssumeRole\",\n",
    "            \"Resource\": \"arn:aws:iam::<ASSETS_ACCOUNT_NO>:role/acme-list-bucket-role\"\n",
    "        }\n",
    "    ]\n",
    "}\n",
    "```\n",
    "The other two policies are similar\n",
    "\n",
    "\n",
    "To summarize two things make it possible for the workspace to assume the role `arn:aws:iam::<EKS_ACCOUNT_NO>:role/acme-list-bucket-role`\n",
    "(and the other two roles):\n",
    "\n",
    "1. The web identity token which was issued by the oidc provider (`sub` provides the identity)\n",
    "2. The `Condition` section of the trust policy attached to the roles which explictly declares which `sub` are allowed to \n",
    "assume the role.\n",
    "3. The permission policies attached to the roles in the EKS account will be allowed to assume roles in the Assets account.\n",
    "\n",
    "One last thing, the corresponding roles in the Assets Account ex. `arn:aws:iam::<ASSETS_ACCOUNT_NO>:role/acme-list-bucket-role`\n",
    "need to have their trust policy to allow principals in the EKS account to assume it. This is the trust policy attached to\n",
    "each of the roles `acme-list-bucket-role` , `acme-read-bucket-role` and `acme-update-bucket-role` \n",
    "\n",
    "```\n",
    "{\n",
    "    \"Version\": \"2012-10-17\",\n",
    "    \"Statement\": [\n",
    "        {\n",
    "            \"Effect\": \"Allow\",\n",
    "            \"Principal\": {\n",
    "                \"AWS\": \"arn:aws:iam::<EKS_ACCOUNT_NO>:root\"\n",
    "            },\n",
    "            \"Action\": \"sts:AssumeRole\"\n",
    "        }\n",
    "    ]\n",
    "}\n",
    "```"
   ]
  },
  {
   "cell_type": "markdown",
   "id": "1788bee1-8b75-4bdb-83b2-f9bf55bebc7e",
   "metadata": {},
   "source": [
    "#### Install boto3 library"
   ]
  },
  {
   "cell_type": "code",
   "execution_count": null,
   "id": "cfbcc046-e696-4217-8703-cf5b35a08245",
   "metadata": {
    "tags": []
   },
   "outputs": [],
   "source": [
    "! pip install boto3"
   ]
  },
  {
   "cell_type": "markdown",
   "id": "41c4c008-dd1f-49c3-b40d-6f882d3fd951",
   "metadata": {},
   "source": [
    "### Now lets get some action\n",
    "\n",
    "Let us actual make calls using the `boto3` api now :\n",
    "\n",
    "\n",
    "### Listing Profiles\n",
    "\n",
    "Let us use the boto3 library to fetch all the profiles available. This is similar to `cat $AWS_CONFIG_FILE`"
   ]
  },
  {
   "cell_type": "code",
   "execution_count": null,
   "id": "4ed3b5cf-46e3-49f0-87ad-375a11088f40",
   "metadata": {
    "tags": []
   },
   "outputs": [],
   "source": [
    "import boto3.session\n",
    "for profile in boto3.session.Session().available_profiles:\n",
    "    print(profile)"
   ]
  },
  {
   "cell_type": "markdown",
   "id": "2fc9eaef-a599-49ca-b229-f2651fd55cf9",
   "metadata": {},
   "source": [
    "### Listing the bucket\n",
    "\n",
    "First lets verify what the identity of the profile is. This is determines by a combination of the web identity token\n",
    "and the underlying assumed role in the Assests Account via the role in the EKS Account"
   ]
  },
  {
   "cell_type": "code",
   "execution_count": null,
   "id": "8e5976cd-63cc-44f6-9af4-5e45a4c69c67",
   "metadata": {
    "tags": []
   },
   "outputs": [],
   "source": [
    "import boto3.session\n",
    "list_bucket_profile_name='acme-list-bucket-role'\n",
    "session = boto3.session.Session(profile_name=list_bucket_profile_name)\n",
    "sts_client = session.client('sts')\n",
    "sts_client.get_caller_identity()"
   ]
  },
  {
   "cell_type": "code",
   "execution_count": null,
   "id": "1a4fd8be-af98-45c6-9942-4a3f6dccdaa1",
   "metadata": {
    "tags": []
   },
   "outputs": [],
   "source": [
    "#Now list the bucket\n",
    "import boto3\n",
    "test_bucket='domino-acme-test-bucket'\n",
    "list_bucket_profile_name='acme-list-bucket-role'\n",
    "session = boto3.session.Session(profile_name=list_bucket_profile_name)\n",
    "s3_client = session.client('s3')\n",
    "for key in s3_client.list_objects(Bucket=test_bucket)['Contents']:\n",
    "    print(key)"
   ]
  },
  {
   "cell_type": "markdown",
   "id": "cbf7ab61-40f3-4262-88b4-0e6dec962db5",
   "metadata": {},
   "source": [
    "### Writing to the bucket\n",
    "\n",
    "Now we write to the bucket. For that we need to use the profile 'acme-update-bucket-role'. This role in the assets\n",
    "account will have the following policies attached to it (List, Read, Update permission)\n",
    "\n",
    "1. `acme-list-bucket-policy` [Only the relevant snipper below]\n",
    "\n",
    "\n",
    "2. `acme-read-bucket-policy` \n",
    "\n",
    "```json\n",
    "        {\n",
    "            \"Effect\": \"Allow\",\n",
    "            \"Action\": [\"s3:Get*\"],\n",
    "            \"Resource\": [\"arn:aws:s3:::domino-acme-test-bucket/*\"]\n",
    "        }\n",
    "```\n",
    "\n",
    "2. `acme-update-bucket-policy` \n",
    "\n",
    "```json\n",
    "     [\n",
    "        {\n",
    "            \"Sid\": \"WriteObjectsInBucket\",\n",
    "            \"Effect\": \"Allow\",\n",
    "            \"Action\": \"s3:PutObject\",\n",
    "            \"Resource\": [\"arn:aws:s3:::domino-acme-test-bucket/*\"]\n",
    "        },\n",
    "        {\n",
    "            \"Sid\": \"DeleteObjectsInBucket\",\n",
    "            \"Effect\": \"Allow\",\n",
    "            \"Action\": \"s3:DeleteObject\",\n",
    "            \"Resource\": [\"arn:aws:s3:::domino-acme-test-bucket/*\"]\n",
    "        }\n",
    "    ]\n",
    "```\n",
    "\n",
    "Now let us create a object with key `$DOMINO_STARTING_USERNAME.txt`"
   ]
  },
  {
   "cell_type": "code",
   "execution_count": null,
   "id": "615e3804-933b-458d-ae72-c745bbf09a91",
   "metadata": {
    "tags": []
   },
   "outputs": [],
   "source": [
    "import boto3\n",
    "import os\n",
    "test_bucket='domino-acme-test-bucket'\n",
    "starting_user = os.environ['DOMINO_STARTING_USERNAME']\n",
    "update_bucket_profile_name='acme-update-bucket-role'\n",
    "session = boto3.session.Session(profile_name=update_bucket_profile_name)\n",
    "s3_client = session.client('s3')\n",
    "object_data = \"This is a random string.\"\n",
    "object_key = f'{starting_user}.txt'\n",
    "s3_client.put_object(Body=object_data, Bucket=test_bucket, Key=object_key)"
   ]
  },
  {
   "cell_type": "markdown",
   "id": "0dc8baa4-4a8e-4d21-979d-dead5104ad0d",
   "metadata": {},
   "source": [
    "\n",
    "### Reading a key from the bucket\n",
    "\n",
    "Let us now read the newly added object from the bucket. This is provided by the role `acme-read-bucket-role`. This role\n",
    "has the  policies `acme-read-bucket-policy` attached to it:\n",
    "\n",
    "1. `acme-list-bucket-policy`\n",
    "2. `acme-read-bucket-policy`\n",
    "```json\n",
    "         {\n",
    "            \"Sid\": \"WriteObjectsInBucket\",\n",
    "            \"Effect\": \"Allow\",\n",
    "            \"Action\": \"\"s3:Get*\"\",\n",
    "            \"Resource\": [\"arn:aws:s3:::domino-acme-test-bucket/*\"]\n",
    "        }\n",
    "```\n",
    "\n",
    "Run the following code snippet:"
   ]
  },
  {
   "cell_type": "code",
   "execution_count": null,
   "id": "400c594a-e181-4edf-9107-f5ac09fadbe6",
   "metadata": {
    "tags": []
   },
   "outputs": [],
   "source": [
    "import boto3\n",
    "import os\n",
    "test_bucket='domino-acme-test-bucket'\n",
    "starting_user = os.environ['DOMINO_STARTING_USERNAME']\n",
    "read_bucket_profile_name='acme-read-bucket-role'\n",
    "object_key = f'{starting_user}.txt'\n",
    "session = boto3.session.Session(profile_name=read_bucket_profile_name)\n",
    "s3_client = session.client('s3')\n",
    "data = s3_client.get_object(Bucket=test_bucket, Key=object_key)\n",
    "contents = data['Body'].read()\n",
    "print(f'\\n---Contents of the key {object_key}----\\n')\n",
    "print(contents.decode(\"utf-8\"))"
   ]
  },
  {
   "cell_type": "markdown",
   "id": "493c455b-2dd5-4e90-a93c-aad545de8c74",
   "metadata": {
    "tags": []
   },
   "source": [
    "### Deleting a key from the bucket\n",
    "\n",
    "Finally let us delete the newly created object"
   ]
  },
  {
   "cell_type": "code",
   "execution_count": null,
   "id": "6922f746-b74c-485f-97ee-f4f7a8040e64",
   "metadata": {
    "tags": []
   },
   "outputs": [],
   "source": [
    "import boto3\n",
    "import os\n",
    "test_bucket='domino-acme-test-bucket'\n",
    "update_bucket_profile_name='acme-update-bucket-role'\n",
    "starting_user = os.environ['DOMINO_STARTING_USERNAME']\n",
    "object_key = f'{starting_user}.txt'\n",
    "print(f'Deleting Key {object_key} from bucket {test_bucket}')\n",
    "\n",
    "session = boto3.session.Session(profile_name=update_bucket_profile_name)\n",
    "s3_client = session.client('s3')\n",
    "s3_client.delete_object(Bucket=test_bucket, Key=object_key)\n",
    "print('\\nNow listing bucket:\\n')\n",
    "for key in s3_client.list_objects(Bucket=test_bucket)['Contents']:\n",
    "    print(key)\n"
   ]
  },
  {
   "cell_type": "code",
   "execution_count": 1,
   "id": "051b4702-3e3c-489c-b322-42a91fc2f955",
   "metadata": {},
   "outputs": [],
   "source": [
    "### Adding a K8s Service Account"
   ]
  },
  {
   "cell_type": "code",
   "execution_count": 17,
   "id": "1cfd9ada-b485-4c95-b5b3-5be2bfb808e0",
   "metadata": {},
   "outputs": [
    {
     "name": "stdout",
     "output_type": "stream",
     "text": [
      "<Response [403]>\n"
     ]
    },
    {
     "name": "stderr",
     "output_type": "stream",
     "text": [
      "/opt/conda/lib/python3.10/site-packages/urllib3/connectionpool.py:1061: InsecureRequestWarning: Unverified HTTPS request is being made to host 'irsa-svc.domino-field'. Adding certificate verification is strongly advised. See: https://urllib3.readthedocs.io/en/1.26.x/advanced-usage.html#ssl-warnings\n",
      "  warnings.warn(\n"
     ]
    }
   ],
   "source": [
    "import requests\n",
    "import os\n",
    "access_token_endpoint='http://localhost:8899/access-token'\n",
    "resp = requests.get(access_token_endpoint)\n",
    "\n",
    "\n",
    "token = resp.text\n",
    "headers = {\n",
    "             \"Content-Type\": \"application/json\",\n",
    "             \"Authorization\": \"Bearer \" + token,\n",
    "        }\n",
    "endpoint='https://irsa-svc.domino-field/service_account'\n",
    "body={\n",
    "    \"service_account_name\":\"zzmytest1111\",\n",
    "}\n",
    "resp = requests.post(endpoint,headers=headers,json=body,verify=False)\n",
    "print(resp.text)"
   ]
  },
  {
   "cell_type": "code",
   "execution_count": 15,
   "id": "4a68b5c7-1dfc-4305-9516-5cd46aaf2765",
   "metadata": {},
   "outputs": [
    {
     "name": "stdout",
     "output_type": "stream",
     "text": [
      "<Response [403]>\n"
     ]
    },
    {
     "name": "stderr",
     "output_type": "stream",
     "text": [
      "/opt/conda/lib/python3.10/site-packages/urllib3/connectionpool.py:1061: InsecureRequestWarning: Unverified HTTPS request is being made to host 'irsa-svc.domino-field'. Adding certificate verification is strongly advised. See: https://urllib3.readthedocs.io/en/1.26.x/advanced-usage.html#ssl-warnings\n",
      "  warnings.warn(\n"
     ]
    }
   ],
   "source": [
    "import requests\n",
    "import os\n",
    "endpoint='https://irsa-svc.domino-field/service_account'\n",
    "body={\n",
    "    \"service_account_name\":\"mytest1111\",\n",
    "}\n",
    "resp = requests.delete(endpoint,headers=headers,json=body,verify=False)\n",
    "print(resp)"
   ]
  },
  {
   "cell_type": "code",
   "execution_count": null,
   "id": "d9839a55-d4ea-4546-8600-a0bb0e704c01",
   "metadata": {},
   "outputs": [],
   "source": []
  }
 ],
 "metadata": {
  "dca-init": "true",
  "kernelspec": {
   "display_name": "Python 3 (ipykernel)",
   "language": "python",
   "name": "python3"
  },
  "language_info": {
   "codemirror_mode": {
    "name": "ipython",
    "version": 3
   },
   "file_extension": ".py",
   "mimetype": "text/x-python",
   "name": "python",
   "nbconvert_exporter": "python",
   "pygments_lexer": "ipython3",
   "version": "3.10.14"
  }
 },
 "nbformat": 4,
 "nbformat_minor": 5
}
