{
 "cells": [
  {
   "cell_type": "markdown",
   "id": "d27d7622-bc52-41d7-8d32-c760a40e256b",
   "metadata": {},
   "source": [
    "## Configuration\n",
    "\n",
    "### Proxy Role\n",
    "AWS Role - 'arn:aws:iam::946429944765:role/irsa-user-sa-proxy-role'\n",
    "Trust Policy\n",
    "```\n",
    "{\n",
    "    \"Version\": \"2012-10-17\",\n",
    "    \"Statement\": [\n",
    "        {\n",
    "            \"Effect\": \"Allow\",\n",
    "            \"Principal\": {\n",
    "                \"Federated\": \"arn:aws:iam::11111:oidc-provider/oidc.eks.us-west-2.amazonaws.com/id/4BFF6850498B7D7ED319EF260xxx\"\n",
    "            },\n",
    "            \"Action\": \"sts:AssumeRoleWithWebIdentity\",\n",
    "            \"Condition\": {\n",
    "                \"StringLike\": {\n",
    "                    \"oidc.eks.us-west-2.amazonaws.com/id/4BFF6850498B7D7ED319EF260xxx:aud\": \"sts.amazonaws.com\",\n",
    "                    \"oidc.eks.us-west-2.amazonaws.com/id/4BFF6850498B7D7ED319EF260xxx:sub\": [\n",
    "                        \"*:domino-compute:integration-test\",\n",
    "                        \"*:domino-compute:john-doe\",\n",
    "                        \"*:domino-compute:jane-doe\"\n",
    "                    ]\n",
    "                }\n",
    "            }\n",
    "        }\n",
    "    ]\n",
    "}\n",
    "```\n",
    "Permission Policy\n",
    "```\n",
    "{\n",
    "    \"Version\": \"2012-10-17\",\n",
    "    \"Statement\": [\n",
    "        {\n",
    "            \"Effect\": \"Allow\",\n",
    "            \"Action\": \"sts:AssumeRole\",\n",
    "            \"Resource\": \"arn:aws:iam::11111:role/irsa-user-sa-asset-role\"\n",
    "        }\n",
    "    ]\n",
    "}\n",
    "```\n",
    "\n",
    "### Asset Role\n",
    "AWS Role - 'arn:aws:iam::11111:role/irsa-user-sa-asset-role'\n",
    "Trust Policy\n",
    "```\n",
    "{\n",
    "    \"Version\": \"2012-10-17\",\n",
    "    \"Statement\": [\n",
    "        {\n",
    "            \"Effect\": \"Allow\",\n",
    "            \"Principal\": {\n",
    "                \"AWS\": \"arn:aws:iam::11111:role/irsa-user-sa-proxy-role\"\n",
    "            },\n",
    "            \"Action\": \"sts:AssumeRole\"\n",
    "        }\n",
    "    ]\n",
    "}\n",
    "```\n",
    "Permission Policy - Undefined for this demo. But can be anything the admin allows, say listing of a S3 bucket.\n"
   ]
  },
  {
   "cell_type": "code",
   "execution_count": null,
   "id": "da107e61-0975-4259-81fc-17d88b6cf0a7",
   "metadata": {},
   "outputs": [],
   "source": [
    "import boto3\n",
    "import os"
   ]
  },
  {
   "cell_type": "code",
   "execution_count": null,
   "id": "0ecbbb5d-fcfd-4df7-b771-52d6a07179e5",
   "metadata": {},
   "outputs": [],
   "source": [
    "os.environ['AWS_ROLE_ARN']='arn:aws:iam::946429944765:role/irsa-user-sa-proxy-role'"
   ]
  },
  {
   "cell_type": "code",
   "execution_count": null,
   "id": "ffbef73a-2db7-4af3-8df4-79e928243905",
   "metadata": {},
   "outputs": [],
   "source": [
    "sts = boto3.client('sts')\n",
    "sts.get_caller_identity()"
   ]
  },
  {
   "cell_type": "code",
   "execution_count": null,
   "id": "50d09332-4832-4956-8e08-152ecae8eb5a",
   "metadata": {},
   "outputs": [],
   "source": [
    "response = sts.assume_role(\n",
    "    RoleArn=\"arn:aws:iam::946429944765:role/irsa-user-sa-asset-role\",\n",
    "    RoleSessionName=\"irsa-user-sa-asset-role\"\n",
    ")\n",
    "print(response['AssumedRoleUser'])"
   ]
  },
  {
   "cell_type": "code",
   "execution_count": null,
   "id": "0e9298e6-83dd-48cc-b5e0-f9fa3a3b5918",
   "metadata": {},
   "outputs": [],
   "source": []
  },
  {
   "cell_type": "code",
   "execution_count": null,
   "id": "49f2d03a-3561-4ae0-95ab-a49209776854",
   "metadata": {},
   "outputs": [],
   "source": []
  }
 ],
 "metadata": {
  "kernelspec": {
   "display_name": "Python 3 (ipykernel)",
   "language": "python",
   "name": "python3"
  },
  "language_info": {
   "codemirror_mode": {
    "name": "ipython",
    "version": 3
   },
   "file_extension": ".py",
   "mimetype": "text/x-python",
   "name": "python",
   "nbconvert_exporter": "python",
   "pygments_lexer": "ipython3",
   "version": "3.9.18"
  }
 },
 "nbformat": 4,
 "nbformat_minor": 5
}
