{
 "cells": [
  {
   "cell_type": "code",
   "execution_count": 1,
   "id": "e0dc0ac4-7e45-4676-9c0c-964e31451ab9",
   "metadata": {},
   "outputs": [],
   "source": [
    "import utils\n",
    "import os\n",
    "import requests\n",
    "from urllib.parse import urljoin\n",
    "import time\n",
    "import utils\n",
    "import json\n",
    "import pandas as pd\n",
    "import json"
   ]
  },
  {
   "cell_type": "code",
   "execution_count": 47,
   "id": "cbc1f336-56f0-4838-8894-111bc66437d2",
   "metadata": {},
   "outputs": [
    {
     "name": "stdout",
     "output_type": "stream",
     "text": [
      "Total number of user based k8s sa in the domino-compute namespace = 5\n"
     ]
    },
    {
     "name": "stderr",
     "output_type": "stream",
     "text": [
      "/opt/conda/lib/python3.9/site-packages/urllib3/connectionpool.py:1061: InsecureRequestWarning: Unverified HTTPS request is being made to host 'domino-extensions-api-svc.domino-field.svc.cluster.local'. Adding certificate verification is strongly advised. See: https://urllib3.readthedocs.io/en/1.26.x/advanced-usage.html#ssl-warnings\n",
      "  warnings.warn(\n"
     ]
    },
    {
     "data": {
      "text/html": [
       "<div>\n",
       "<style scoped>\n",
       "    .dataframe tbody tr th:only-of-type {\n",
       "        vertical-align: middle;\n",
       "    }\n",
       "\n",
       "    .dataframe tbody tr th {\n",
       "        vertical-align: top;\n",
       "    }\n",
       "\n",
       "    .dataframe thead th {\n",
       "        text-align: right;\n",
       "    }\n",
       "</style>\n",
       "<table border=\"1\" class=\"dataframe\">\n",
       "  <thead>\n",
       "    <tr style=\"text-align: right;\">\n",
       "      <th></th>\n",
       "      <th>domino_user_id</th>\n",
       "      <th>domino_user_name</th>\n",
       "      <th>sa_name</th>\n",
       "    </tr>\n",
       "  </thead>\n",
       "  <tbody>\n",
       "    <tr>\n",
       "      <th>0</th>\n",
       "      <td>65a98234e7e76d34e50712be</td>\n",
       "      <td>integration-test</td>\n",
       "      <td>integration-test</td>\n",
       "    </tr>\n",
       "    <tr>\n",
       "      <th>1</th>\n",
       "      <td>65be5199e174df651910cc5a</td>\n",
       "      <td>sameer_wadkar</td>\n",
       "      <td>sameer-wadkar</td>\n",
       "    </tr>\n",
       "    <tr>\n",
       "      <th>2</th>\n",
       "      <td>65bfa482e174df651910ccd8</td>\n",
       "      <td>sameer+wadkar@dominodatalab.com</td>\n",
       "      <td>sameer-wadkar-dominodatalab.com</td>\n",
       "    </tr>\n",
       "    <tr>\n",
       "      <th>3</th>\n",
       "      <td>65be51c7e174df651910cc70</td>\n",
       "      <td>sameer.wadkar@dominodatalab.com</td>\n",
       "      <td>sameer.wadkar-dominodatalab.com</td>\n",
       "    </tr>\n",
       "    <tr>\n",
       "      <th>4</th>\n",
       "      <td>65be51aee174df651910cc65</td>\n",
       "      <td>sameerwadkar</td>\n",
       "      <td>sameerwadkar</td>\n",
       "    </tr>\n",
       "  </tbody>\n",
       "</table>\n",
       "</div>"
      ],
      "text/plain": [
       "             domino_user_id                 domino_user_name  \\\n",
       "0  65a98234e7e76d34e50712be                 integration-test   \n",
       "1  65be5199e174df651910cc5a                    sameer_wadkar   \n",
       "2  65bfa482e174df651910ccd8  sameer+wadkar@dominodatalab.com   \n",
       "3  65be51c7e174df651910cc70  sameer.wadkar@dominodatalab.com   \n",
       "4  65be51aee174df651910cc65                     sameerwadkar   \n",
       "\n",
       "                           sa_name  \n",
       "0                 integration-test  \n",
       "1                    sameer-wadkar  \n",
       "2  sameer-wadkar-dominodatalab.com  \n",
       "3  sameer.wadkar-dominodatalab.com  \n",
       "4                     sameerwadkar  "
      ]
     },
     "execution_count": 47,
     "metadata": {},
     "output_type": "execute_result"
    }
   ],
   "source": [
    "EXTENDED_API_URI = 'https://domino-extensions-api-svc.domino-field.svc.cluster.local'\n",
    "headers = utils.generate_api_key_based_request_headers()\n",
    "get_all_sa_url = urljoin(EXTENDED_API_URI, 'domino-sa-management-api/allusersa')\n",
    "\n",
    "headers = utils.generate_api_key_based_request_headers()\n",
    "response = requests.get(get_all_sa_url, headers=headers,  verify=False)\n",
    "lst = response.json()['all_sa']\n",
    "print(f'Total number of user based k8s sa in the domino-compute namespace = {len(lst)}')\n",
    "df = pd.DataFrame(lst)\n",
    "df"
   ]
  },
  {
   "cell_type": "code",
   "execution_count": 53,
   "id": "861fd361-d548-4ec8-a3e0-df06c4221ed4",
   "metadata": {},
   "outputs": [
    {
     "name": "stdout",
     "output_type": "stream",
     "text": [
      "Get Mutations\n",
      "\n",
      "{\n",
      "    \"apiVersion\": \"apps.dominodatalab.com/v1alpha1\",\n",
      "    \"items\": [\n",
      "        {\n",
      "            \"apiVersion\": \"apps.dominodatalab.com/v1alpha1\",\n",
      "            \"kind\": \"Mutation\",\n",
      "            \"metadata\": {\n",
      "                \"annotations\": {\n",
      "                    \"kubectl.kubernetes.io/last-applied-configuration\": \"{\\\"apiVersion\\\":\\\"apps.dominodatalab.com/v1alpha1\\\",\\\"kind\\\":\\\"Mutation\\\",\\\"metadata\\\":{\\\"annotations\\\":{},\\\"name\\\":\\\"user-identity-based-irsa\\\",\\\"namespace\\\":\\\"domino-platform\\\"},\\\"rules\\\":[{\\\"cloudWorkloadIdentity\\\":{\\\"assume_sa_mapping\\\":true,\\\"cloud_type\\\":\\\"aws\\\",\\\"default_sa\\\":\\\"\\\",\\\"user_mappings\\\":null},\\\"insertVolumeMounts\\\":{\\\"volumeMounts\\\":[{\\\"mountPath\\\":\\\"/var/run/.aws\\\",\\\"name\\\":\\\"aws-config-file\\\"},{\\\"mountPath\\\":\\\"/var/run/secrets/eks.amazonaws.com/serviceaccount/\\\",\\\"name\\\":\\\"aws-user-token\\\",\\\"readOnly\\\":true}]},\\\"insertVolumes\\\":[{\\\"emptyDir\\\":{\\\"sizeLimit\\\":\\\"500Mi\\\"},\\\"name\\\":\\\"aws-config-file\\\"},{\\\"name\\\":\\\"aws-user-token\\\",\\\"projected\\\":{\\\"defaultMode\\\":422,\\\"sources\\\":[{\\\"serviceAccountToken\\\":{\\\"audience\\\":\\\"sts.amazonaws.com\\\",\\\"expirationSeconds\\\":86400,\\\"path\\\":\\\"token\\\"}}]}}],\\\"labelSelectors\\\":[\\\"dominodatalab.com/workload-type in (Workspace,Batch,Scheduled)\\\"],\\\"modifyEnv\\\":{\\\"env\\\":[{\\\"name\\\":\\\"AWS_WEB_IDENTITY_TOKEN_FILE\\\",\\\"value\\\":\\\"/var/run/secrets/eks.amazonaws.com/serviceaccount/token\\\"},{\\\"name\\\":\\\"AWS_CONFIG_FILE\\\",\\\"value\\\":\\\"/var/run/.aws/config\\\"},{\\\"name\\\":\\\"AWS_DEFAULT_REGION\\\",\\\"value\\\":\\\"us-west-2\\\"},{\\\"name\\\":\\\"AWS_REGION\\\",\\\"value\\\":\\\"us-west-2\\\"},{\\\"name\\\":\\\"AWS_STS_REGIONAL_ENDPOINTS\\\",\\\"value\\\":\\\"regional\\\"}]},\\\"modifySecurityContext\\\":{\\\"context\\\":{\\\"fsGroup\\\":12574}}}]}\\n\"\n",
      "                },\n",
      "                \"creationTimestamp\": \"2024-02-05T14:31:48Z\",\n",
      "                \"generation\": 1,\n",
      "                \"managedFields\": [\n",
      "                    {\n",
      "                        \"apiVersion\": \"apps.dominodatalab.com/v1alpha1\",\n",
      "                        \"fieldsType\": \"FieldsV1\",\n",
      "                        \"fieldsV1\": {\n",
      "                            \"f:metadata\": {\n",
      "                                \"f:annotations\": {\n",
      "                                    \".\": {},\n",
      "                                    \"f:kubectl.kubernetes.io/last-applied-configuration\": {}\n",
      "                                }\n",
      "                            },\n",
      "                            \"f:rules\": {}\n",
      "                        },\n",
      "                        \"manager\": \"kubectl-client-side-apply\",\n",
      "                        \"operation\": \"Update\",\n",
      "                        \"time\": \"2024-02-05T14:31:48Z\"\n",
      "                    }\n",
      "                ],\n",
      "                \"name\": \"user-identity-based-irsa\",\n",
      "                \"namespace\": \"domino-platform\",\n",
      "                \"resourceVersion\": \"6180217\",\n",
      "                \"uid\": \"4d7c0933-26d6-4ce8-b89a-0b20797b1b4d\"\n",
      "            },\n",
      "            \"rules\": [\n",
      "                {\n",
      "                    \"cloudWorkloadIdentity\": {\n",
      "                        \"assume_sa_mapping\": true,\n",
      "                        \"cloud_type\": \"aws\",\n",
      "                        \"default_sa\": \"\"\n",
      "                    },\n",
      "                    \"insertVolumeMounts\": {\n",
      "                        \"volumeMounts\": [\n",
      "                            {\n",
      "                                \"mountPath\": \"/var/run/.aws\",\n",
      "                                \"name\": \"aws-config-file\"\n",
      "                            },\n",
      "                            {\n",
      "                                \"mountPath\": \"/var/run/secrets/eks.amazonaws.com/serviceaccount/\",\n",
      "                                \"name\": \"aws-user-token\",\n",
      "                                \"readOnly\": true\n",
      "                            }\n",
      "                        ]\n",
      "                    },\n",
      "                    \"insertVolumes\": [\n",
      "                        {\n",
      "                            \"emptyDir\": {\n",
      "                                \"sizeLimit\": \"500Mi\"\n",
      "                            },\n",
      "                            \"name\": \"aws-config-file\"\n",
      "                        },\n",
      "                        {\n",
      "                            \"name\": \"aws-user-token\",\n",
      "                            \"projected\": {\n",
      "                                \"defaultMode\": 422,\n",
      "                                \"sources\": [\n",
      "                                    {\n",
      "                                        \"serviceAccountToken\": {\n",
      "                                            \"audience\": \"sts.amazonaws.com\",\n",
      "                                            \"expirationSeconds\": 86400,\n",
      "                                            \"path\": \"token\"\n",
      "                                        }\n",
      "                                    }\n",
      "                                ]\n",
      "                            }\n",
      "                        }\n",
      "                    ],\n",
      "                    \"labelSelectors\": [\n",
      "                        \"dominodatalab.com/workload-type in (Workspace,Batch,Scheduled)\"\n",
      "                    ],\n",
      "                    \"matchBuilds\": false,\n",
      "                    \"modifyEnv\": {\n",
      "                        \"env\": [\n",
      "                            {\n",
      "                                \"name\": \"AWS_WEB_IDENTITY_TOKEN_FILE\",\n",
      "                                \"value\": \"/var/run/secrets/eks.amazonaws.com/serviceaccount/token\"\n",
      "                            },\n",
      "                            {\n",
      "                                \"name\": \"AWS_CONFIG_FILE\",\n",
      "                                \"value\": \"/var/run/.aws/config\"\n",
      "                            },\n",
      "                            {\n",
      "                                \"name\": \"AWS_DEFAULT_REGION\",\n",
      "                                \"value\": \"us-west-2\"\n",
      "                            },\n",
      "                            {\n",
      "                                \"name\": \"AWS_REGION\",\n",
      "                                \"value\": \"us-west-2\"\n",
      "                            },\n",
      "                            {\n",
      "                                \"name\": \"AWS_STS_REGIONAL_ENDPOINTS\",\n",
      "                                \"value\": \"regional\"\n",
      "                            }\n",
      "                        ]\n",
      "                    },\n",
      "                    \"modifySecurityContext\": {\n",
      "                        \"context\": {\n",
      "                            \"fsGroup\": 12574\n",
      "                        }\n",
      "                    }\n",
      "                }\n",
      "            ]\n",
      "        }\n",
      "    ],\n",
      "    \"kind\": \"MutationList\",\n",
      "    \"metadata\": {\n",
      "        \"continue\": \"\",\n",
      "        \"resourceVersion\": \"6180450\"\n",
      "    }\n",
      "}\n"
     ]
    },
    {
     "name": "stderr",
     "output_type": "stream",
     "text": [
      "/opt/conda/lib/python3.9/site-packages/urllib3/connectionpool.py:1061: InsecureRequestWarning: Unverified HTTPS request is being made to host 'domino-extensions-api-svc.domino-field.svc.cluster.local'. Adding certificate verification is strongly advised. See: https://urllib3.readthedocs.io/en/1.26.x/advanced-usage.html#ssl-warnings\n",
      "  warnings.warn(\n"
     ]
    }
   ],
   "source": [
    "target_mutation_name = 'user-identity-based-irsa' \n",
    "get_mutation_url = f'{EXTENDED_API_URI}/domsed/mutation/{target_mutation_name}'\n",
    "print('Get Mutations\\n')\n",
    "resp = requests.get(listing_url, headers=headers, verify=False)\n",
    "mutations = resp.json()\n",
    "json_str = json.dumps(resp.json(), indent=4)\n",
    "\n",
    "# Print the pretty-printed JSON string\n",
    "print(json_str)"
   ]
  },
  {
   "cell_type": "markdown",
   "id": "c114afbf-4ff9-43f7-a3c9-a9284bcc202d",
   "metadata": {},
   "source": [
    "## Now map SA's to Domino User Id"
   ]
  },
  {
   "cell_type": "code",
   "execution_count": 58,
   "id": "15d473a5-e33e-4160-a1fe-132d1825a171",
   "metadata": {},
   "outputs": [],
   "source": [
    "my_mutation = mutation['items'][0]\n",
    "my_mutation\n",
    "if 'managedFields' in my_mutation['metadata']:\n",
    "    del my_mutation['metadata']['managedFields']\n",
    "if 'resourceVersion' in my_mutation['metadata']:\n",
    "    del my_mutation['metadata']['resourceVersion']\n"
   ]
  },
  {
   "cell_type": "code",
   "execution_count": 52,
   "id": "d4f6e4ba-819d-4a2d-bfe2-4a2047b45793",
   "metadata": {},
   "outputs": [
    {
     "ename": "KeyError",
     "evalue": "'resourceVersion'",
     "output_type": "error",
     "traceback": [
      "\u001b[0;31m---------------------------------------------------------------------------\u001b[0m",
      "\u001b[0;31mKeyError\u001b[0m                                  Traceback (most recent call last)",
      "Cell \u001b[0;32mIn[52], line 3\u001b[0m\n\u001b[1;32m      1\u001b[0m \u001b[38;5;66;03m#Find index of rule cloudWorkloadIdentity\u001b[39;00m\n\u001b[1;32m      2\u001b[0m my_mutation \u001b[38;5;241m=\u001b[39m mutation[\u001b[38;5;124m'\u001b[39m\u001b[38;5;124mitems\u001b[39m\u001b[38;5;124m'\u001b[39m][\u001b[38;5;241m0\u001b[39m]\n\u001b[0;32m----> 3\u001b[0m \u001b[38;5;28;01mdel\u001b[39;00m my_mutation[\u001b[38;5;124m'\u001b[39m\u001b[38;5;124mmetadata\u001b[39m\u001b[38;5;124m'\u001b[39m][\u001b[38;5;124m'\u001b[39m\u001b[38;5;124mresourceVersion\u001b[39m\u001b[38;5;124m'\u001b[39m]\n\u001b[1;32m      4\u001b[0m \u001b[38;5;28;01mdel\u001b[39;00m my_mutation[\u001b[38;5;124m'\u001b[39m\u001b[38;5;124mmetadata\u001b[39m\u001b[38;5;124m'\u001b[39m][\u001b[38;5;124m'\u001b[39m\u001b[38;5;124mmanagedFields\u001b[39m\u001b[38;5;124m'\u001b[39m]\n\u001b[1;32m      5\u001b[0m \u001b[38;5;28;01mfor\u001b[39;00m rule \u001b[38;5;129;01min\u001b[39;00m my_mutation[\u001b[38;5;124m'\u001b[39m\u001b[38;5;124mrules\u001b[39m\u001b[38;5;124m'\u001b[39m]:\n",
      "\u001b[0;31mKeyError\u001b[0m: 'resourceVersion'"
     ]
    }
   ],
   "source": [
    "for rule in my_mutation['rules']:\n",
    "    if 'cloudWorkloadIdentity' in rule:\n",
    "        rule['cloudWorkloadIdentity']['assume_sa_mapping']=False\n",
    "        user_mappings={}\n",
    "        for l in lst:\n",
    "            user_mappings[l['domino_user_name']]=l['sa_name']\n",
    "        rule['cloudWorkloadIdentity']['user_mappings'] = user_mappings\n",
    "my_mutation\n"
   ]
  },
  {
   "cell_type": "code",
   "execution_count": 42,
   "id": "6bf6aee7-b418-4134-b198-c925e3804697",
   "metadata": {},
   "outputs": [
    {
     "name": "stderr",
     "output_type": "stream",
     "text": [
      "/opt/conda/lib/python3.9/site-packages/urllib3/connectionpool.py:1061: InsecureRequestWarning: Unverified HTTPS request is being made to host 'domino-extensions-api-svc.domino-field.svc.cluster.local'. Adding certificate verification is strongly advised. See: https://urllib3.readthedocs.io/en/1.26.x/advanced-usage.html#ssl-warnings\n",
      "  warnings.warn(\n"
     ]
    },
    {
     "data": {
      "text/plain": [
       "500"
      ]
     },
     "execution_count": 42,
     "metadata": {},
     "output_type": "execute_result"
    }
   ],
   "source": [
    "## Apply mutation\n",
    "publish_url = f'{EXTENDED_API_URI}/domsed/mutation/apply'\n",
    "resp = requests.post(publish_url, json=my_mutation ,headers=headers, verify=False)\n",
    "resp.status_code"
   ]
  },
  {
   "cell_type": "code",
   "execution_count": null,
   "id": "9c0d9198-a739-47fd-b47f-2807a29f89a0",
   "metadata": {},
   "outputs": [],
   "source": []
  }
 ],
 "metadata": {
  "kernelspec": {
   "display_name": "Python 3 (ipykernel)",
   "language": "python",
   "name": "python3"
  },
  "language_info": {
   "codemirror_mode": {
    "name": "ipython",
    "version": 3
   },
   "file_extension": ".py",
   "mimetype": "text/x-python",
   "name": "python",
   "nbconvert_exporter": "python",
   "pygments_lexer": "ipython3",
   "version": "3.9.18"
  }
 },
 "nbformat": 4,
 "nbformat_minor": 5
}
