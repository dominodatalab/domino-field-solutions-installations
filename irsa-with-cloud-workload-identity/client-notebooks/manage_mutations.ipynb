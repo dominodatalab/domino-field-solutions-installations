{
 "cells": [
  {
   "cell_type": "code",
   "execution_count": null,
   "id": "e0dc0ac4-7e45-4676-9c0c-964e31451ab9",
   "metadata": {},
   "outputs": [],
   "source": [
    "import utils\n",
    "import os\n",
    "import requests\n",
    "from urllib.parse import urljoin\n",
    "import time\n",
    "import utils\n",
    "import json\n",
    "import pandas as pd\n",
    "import json"
   ]
  },
  {
   "cell_type": "markdown",
   "id": "63fec32e-8616-4558-9655-7eee3d59f424",
   "metadata": {},
   "source": [
    "### Get All Users and their SA's"
   ]
  },
  {
   "cell_type": "code",
   "execution_count": null,
   "id": "cbc1f336-56f0-4838-8894-111bc66437d2",
   "metadata": {},
   "outputs": [],
   "source": [
    "EXTENDED_API_URI = 'https://domino-extensions-api-svc.domino-field.svc.cluster.local'\n",
    "headers = utils.generate_api_key_based_request_headers()\n",
    "get_all_sa_url = urljoin(EXTENDED_API_URI, 'domino-sa-management-api/allusersa')\n",
    "\n",
    "headers = utils.generate_api_key_based_request_headers()\n",
    "response = requests.get(get_all_sa_url, headers=headers,  verify=False)\n",
    "lst = response.json()['all_sa']\n",
    "print(f'Total number of user based k8s sa in the domino-compute namespace = {len(lst)}')\n",
    "df = pd.DataFrame(lst)\n",
    "df"
   ]
  },
  {
   "cell_type": "markdown",
   "id": "92ecd03d-d27c-4a5c-aa5d-9981b42e17f6",
   "metadata": {},
   "source": [
    "### Get Mutation for `user-identity-based-irsa`"
   ]
  },
  {
   "cell_type": "code",
   "execution_count": null,
   "id": "861fd361-d548-4ec8-a3e0-df06c4221ed4",
   "metadata": {},
   "outputs": [],
   "source": [
    "target_mutation_name = 'user-identity-based-irsa' \n",
    "get_mutation_url = f'{EXTENDED_API_URI}/domsed/mutation/{target_mutation_name}'\n",
    "print('Get Mutations\\n')\n",
    "resp = requests.get(listing_url, headers=headers, verify=False)\n",
    "mutations = resp.json()\n",
    "json_str = json.dumps(resp.json(), indent=4)\n",
    "\n",
    "# Print the pretty-printed JSON string\n",
    "print(json_str)"
   ]
  },
  {
   "cell_type": "markdown",
   "id": "c114afbf-4ff9-43f7-a3c9-a9284bcc202d",
   "metadata": {},
   "source": [
    "## Now map SA to Domino User Id in the `user-identity-based-irsa`"
   ]
  },
  {
   "cell_type": "code",
   "execution_count": null,
   "id": "15d473a5-e33e-4160-a1fe-132d1825a171",
   "metadata": {},
   "outputs": [],
   "source": [
    "my_mutation = mutation['items'][0]\n",
    "my_mutation\n",
    "if 'managedFields' in my_mutation['metadata']:\n",
    "    del my_mutation['metadata']['managedFields']\n",
    "if 'resourceVersion' in my_mutation['metadata']:\n",
    "    del my_mutation['metadata']['resourceVersion']\n"
   ]
  },
  {
   "cell_type": "code",
   "execution_count": null,
   "id": "d4f6e4ba-819d-4a2d-bfe2-4a2047b45793",
   "metadata": {},
   "outputs": [],
   "source": [
    "for rule in my_mutation['rules']:\n",
    "    if 'cloudWorkloadIdentity' in rule:\n",
    "        rule['cloudWorkloadIdentity']['assume_sa_mapping']=False\n",
    "        user_mappings={}\n",
    "        for l in lst:\n",
    "            user_mappings[l['domino_user_name']]=l['sa_name']\n",
    "        rule['cloudWorkloadIdentity']['user_mappings'] = user_mappings\n",
    "my_mutation\n"
   ]
  },
  {
   "cell_type": "code",
   "execution_count": null,
   "id": "6bf6aee7-b418-4134-b198-c925e3804697",
   "metadata": {},
   "outputs": [],
   "source": [
    "## Apply mutation\n",
    "publish_url = f'{EXTENDED_API_URI}/domsed/mutation/apply'\n",
    "resp = requests.post(publish_url, json=my_mutation ,headers=headers, verify=False)\n",
    "resp.status_code"
   ]
  },
  {
   "cell_type": "code",
   "execution_count": null,
   "id": "9c0d9198-a739-47fd-b47f-2807a29f89a0",
   "metadata": {},
   "outputs": [],
   "source": []
  }
 ],
 "metadata": {
  "kernelspec": {
   "display_name": "Python 3 (ipykernel)",
   "language": "python",
   "name": "python3"
  },
  "language_info": {
   "codemirror_mode": {
    "name": "ipython",
    "version": 3
   },
   "file_extension": ".py",
   "mimetype": "text/x-python",
   "name": "python",
   "nbconvert_exporter": "python",
   "pygments_lexer": "ipython3",
   "version": "3.9.18"
  }
 },
 "nbformat": 4,
 "nbformat_minor": 5
}
