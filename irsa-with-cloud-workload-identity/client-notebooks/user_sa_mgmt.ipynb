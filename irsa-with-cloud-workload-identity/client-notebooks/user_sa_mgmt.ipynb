{
 "cells": [
  {
   "cell_type": "code",
   "execution_count": 2,
   "id": "36293e2d-d83b-4bc9-a02b-d58aa8121d56",
   "metadata": {},
   "outputs": [],
   "source": [
    "import utils\n",
    "import os\n",
    "import requests\n",
    "from urllib.parse import urljoin\n",
    "import time\n",
    "import utils\n"
   ]
  },
  {
   "cell_type": "code",
   "execution_count": 3,
   "id": "46f8d49f-a676-4cf1-8235-dab921da73a3",
   "metadata": {},
   "outputs": [],
   "source": [
    "os.environ['EXTENDED_API_HOST']='https://domino-extensions-api-svc.domino-field.svc.cluster.local'\n",
    "#Create user SA's\n",
    "EXTENDED_API_URI = os.environ.get('EXTENDED_API_HOST')\n",
    "\n",
    "manage_sa_url = urljoin(EXTENDED_API_URI, 'domino-sa-management-api/usersa')\n",
    "get_all_sa_url = urljoin(EXTENDED_API_URI, 'domino-sa-management-api/allusersa')"
   ]
  },
  {
   "cell_type": "code",
   "execution_count": 4,
   "id": "4e5ad239-0115-431d-b509-f21031b9c134",
   "metadata": {},
   "outputs": [],
   "source": [
    "def get_all_users():\n",
    "    headers = utils.generate_api_key_based_request_headers()\n",
    "    url: str = urljoin(os.environ.get('DOMINO_API_HOST'), '/api/users/v1/users')\n",
    "    users = requests.get(url, headers=headers).json()\n",
    "    return users\n",
    "def get_user(user_name:str):\n",
    "    users = get_all_users()\n",
    "    for u in users['users']:        \n",
    "        name = u['userName']\n",
    "        if name==user_name:\n",
    "            return u\n",
    "    return None"
   ]
  },
  {
   "cell_type": "markdown",
   "id": "93e66b56-e45c-4924-ad16-f05fc3bdb6c0",
   "metadata": {},
   "source": [
    "## Get All User Based SA's in the domino-compute namespace\n",
    "\n",
    "First determine if you have any user based SA's for a domino user"
   ]
  },
  {
   "cell_type": "code",
   "execution_count": 8,
   "id": "f0ef73d1-0000-41c9-8703-6312f39cbf45",
   "metadata": {},
   "outputs": [
    {
     "name": "stdout",
     "output_type": "stream",
     "text": [
      "Total number of user based k8s sa in the domino-compute namespace = 5\n"
     ]
    },
    {
     "name": "stderr",
     "output_type": "stream",
     "text": [
      "/opt/conda/lib/python3.9/site-packages/urllib3/connectionpool.py:1061: InsecureRequestWarning: Unverified HTTPS request is being made to host 'domino-extensions-api-svc.domino-field.svc.cluster.local'. Adding certificate verification is strongly advised. See: https://urllib3.readthedocs.io/en/1.26.x/advanced-usage.html#ssl-warnings\n",
      "  warnings.warn(\n"
     ]
    },
    {
     "data": {
      "text/html": [
       "<div>\n",
       "<style scoped>\n",
       "    .dataframe tbody tr th:only-of-type {\n",
       "        vertical-align: middle;\n",
       "    }\n",
       "\n",
       "    .dataframe tbody tr th {\n",
       "        vertical-align: top;\n",
       "    }\n",
       "\n",
       "    .dataframe thead th {\n",
       "        text-align: right;\n",
       "    }\n",
       "</style>\n",
       "<table border=\"1\" class=\"dataframe\">\n",
       "  <thead>\n",
       "    <tr style=\"text-align: right;\">\n",
       "      <th></th>\n",
       "      <th>domino_user_id</th>\n",
       "      <th>domino_user_name</th>\n",
       "      <th>sa_name</th>\n",
       "    </tr>\n",
       "  </thead>\n",
       "  <tbody>\n",
       "    <tr>\n",
       "      <th>0</th>\n",
       "      <td>65a98234e7e76d34e50712be</td>\n",
       "      <td>integration-test</td>\n",
       "      <td>integration-test</td>\n",
       "    </tr>\n",
       "    <tr>\n",
       "      <th>1</th>\n",
       "      <td>65be5199e174df651910cc5a</td>\n",
       "      <td>sameer_wadkar</td>\n",
       "      <td>sameer-wadkar</td>\n",
       "    </tr>\n",
       "    <tr>\n",
       "      <th>2</th>\n",
       "      <td>65bfa482e174df651910ccd8</td>\n",
       "      <td>sameer+wadkar@dominodatalab.com</td>\n",
       "      <td>sameer-wadkar-dominodatalab.com</td>\n",
       "    </tr>\n",
       "    <tr>\n",
       "      <th>3</th>\n",
       "      <td>65be51c7e174df651910cc70</td>\n",
       "      <td>sameer.wadkar@dominodatalab.com</td>\n",
       "      <td>sameer.wadkar-dominodatalab.com</td>\n",
       "    </tr>\n",
       "    <tr>\n",
       "      <th>4</th>\n",
       "      <td>65be51aee174df651910cc65</td>\n",
       "      <td>sameerwadkar</td>\n",
       "      <td>sameerwadkar</td>\n",
       "    </tr>\n",
       "  </tbody>\n",
       "</table>\n",
       "</div>"
      ],
      "text/plain": [
       "             domino_user_id                 domino_user_name  \\\n",
       "0  65a98234e7e76d34e50712be                 integration-test   \n",
       "1  65be5199e174df651910cc5a                    sameer_wadkar   \n",
       "2  65bfa482e174df651910ccd8  sameer+wadkar@dominodatalab.com   \n",
       "3  65be51c7e174df651910cc70  sameer.wadkar@dominodatalab.com   \n",
       "4  65be51aee174df651910cc65                     sameerwadkar   \n",
       "\n",
       "                           sa_name  \n",
       "0                 integration-test  \n",
       "1                    sameer-wadkar  \n",
       "2  sameer-wadkar-dominodatalab.com  \n",
       "3  sameer.wadkar-dominodatalab.com  \n",
       "4                     sameerwadkar  "
      ]
     },
     "execution_count": 8,
     "metadata": {},
     "output_type": "execute_result"
    }
   ],
   "source": [
    "import pandas as pd\n",
    "import json\n",
    "headers = utils.generate_api_key_based_request_headers()\n",
    "response = requests.get(get_all_sa_url, headers=headers,  verify=False)\n",
    "lst = response.json()['all_sa']\n",
    "print(f'Total number of user based k8s sa in the domino-compute namespace = {len(lst)}')\n",
    "df = pd.DataFrame(lst)\n",
    "df"
   ]
  },
  {
   "cell_type": "markdown",
   "id": "066b375d-c756-4fcc-b942-f58654246745",
   "metadata": {},
   "source": [
    "# Generate user SA for all users\n",
    "\n",
    "Generate SA for all domino users in the `domino-compute` namespace"
   ]
  },
  {
   "cell_type": "code",
   "execution_count": 13,
   "id": "dfd99ce0-e3f5-49d4-930a-325b88a88310",
   "metadata": {},
   "outputs": [
    {
     "name": "stdout",
     "output_type": "stream",
     "text": [
      "Generating K8s SA for user {'user_name': 'sameer+wadkar@dominodatalab.com', 'user_id': '65bfa482e174df651910ccd8', 'domino_sa': None} \n",
      "Success\n",
      "200\n",
      "SA=sameer-wadkar-dominodatalab.com generated for domino_user=sameer+wadkar@dominodatalab.com\n",
      "\n",
      "\n",
      "Generating K8s SA for user {'user_name': 'sameer.wadkar@dominodatalab.com', 'user_id': '65be51c7e174df651910cc70', 'domino_sa': None} \n",
      "Success\n",
      "200\n",
      "SA=sameer.wadkar-dominodatalab.com generated for domino_user=sameer.wadkar@dominodatalab.com\n",
      "\n",
      "\n",
      "Generating K8s SA for user {'user_name': 'sameerwadkar', 'user_id': '65be51aee174df651910cc65', 'domino_sa': None} \n"
     ]
    },
    {
     "name": "stderr",
     "output_type": "stream",
     "text": [
      "/opt/conda/lib/python3.9/site-packages/urllib3/connectionpool.py:1061: InsecureRequestWarning: Unverified HTTPS request is being made to host 'domino-extensions-api-svc.domino-field.svc.cluster.local'. Adding certificate verification is strongly advised. See: https://urllib3.readthedocs.io/en/1.26.x/advanced-usage.html#ssl-warnings\n",
      "  warnings.warn(\n",
      "/opt/conda/lib/python3.9/site-packages/urllib3/connectionpool.py:1061: InsecureRequestWarning: Unverified HTTPS request is being made to host 'domino-extensions-api-svc.domino-field.svc.cluster.local'. Adding certificate verification is strongly advised. See: https://urllib3.readthedocs.io/en/1.26.x/advanced-usage.html#ssl-warnings\n",
      "  warnings.warn(\n",
      "/opt/conda/lib/python3.9/site-packages/urllib3/connectionpool.py:1061: InsecureRequestWarning: Unverified HTTPS request is being made to host 'domino-extensions-api-svc.domino-field.svc.cluster.local'. Adding certificate verification is strongly advised. See: https://urllib3.readthedocs.io/en/1.26.x/advanced-usage.html#ssl-warnings\n",
      "  warnings.warn(\n"
     ]
    },
    {
     "name": "stdout",
     "output_type": "stream",
     "text": [
      "Success\n",
      "200\n",
      "SA=sameerwadkar generated for domino_user=sameerwadkar\n",
      "\n",
      "\n",
      "Generating K8s SA for user {'user_name': 'sameer_wadkar', 'user_id': '65be5199e174df651910cc5a', 'domino_sa': None} \n",
      "Success\n",
      "200\n",
      "SA=sameer-wadkar generated for domino_user=sameer_wadkar\n",
      "\n",
      "\n",
      "Generating K8s SA for user {'user_name': 'sameer-wadkar', 'user_id': '65be5180e174df651910cc4f', 'domino_sa': None} \n",
      "Failure\n",
      "409\n",
      "SA sameer-wadkar already exists for sameer-wadkar. First delete and then recreate\n",
      "\n",
      "\n",
      "Generating K8s SA for user {'user_name': 'integration-test', 'user_id': '65a98234e7e76d34e50712be', 'domino_sa': None} \n"
     ]
    },
    {
     "name": "stderr",
     "output_type": "stream",
     "text": [
      "/opt/conda/lib/python3.9/site-packages/urllib3/connectionpool.py:1061: InsecureRequestWarning: Unverified HTTPS request is being made to host 'domino-extensions-api-svc.domino-field.svc.cluster.local'. Adding certificate verification is strongly advised. See: https://urllib3.readthedocs.io/en/1.26.x/advanced-usage.html#ssl-warnings\n",
      "  warnings.warn(\n",
      "/opt/conda/lib/python3.9/site-packages/urllib3/connectionpool.py:1061: InsecureRequestWarning: Unverified HTTPS request is being made to host 'domino-extensions-api-svc.domino-field.svc.cluster.local'. Adding certificate verification is strongly advised. See: https://urllib3.readthedocs.io/en/1.26.x/advanced-usage.html#ssl-warnings\n",
      "  warnings.warn(\n",
      "/opt/conda/lib/python3.9/site-packages/urllib3/connectionpool.py:1061: InsecureRequestWarning: Unverified HTTPS request is being made to host 'domino-extensions-api-svc.domino-field.svc.cluster.local'. Adding certificate verification is strongly advised. See: https://urllib3.readthedocs.io/en/1.26.x/advanced-usage.html#ssl-warnings\n",
      "  warnings.warn(\n"
     ]
    },
    {
     "name": "stdout",
     "output_type": "stream",
     "text": [
      "Success\n",
      "200\n",
      "SA=integration-test generated for domino_user=integration-test\n",
      "\n",
      "\n"
     ]
    }
   ],
   "source": [
    "headers = utils.generate_api_key_based_request_headers()\n",
    "users = get_all_users()\n",
    "for u in users['users']:\n",
    "    id = u['id']\n",
    "    name = u['userName']\n",
    "    body = {'user_name': name, 'user_id': id, 'domino_sa': None}\n",
    "    print(f'Generating K8s SA for user {body} ')\n",
    "    response = requests.post(manage_sa_url, headers=headers, json=body, verify=False)\n",
    "    if response.status_code==200:\n",
    "        print('Success')\n",
    "        print(response.status_code)\n",
    "        print(response.text)\n",
    "    else:\n",
    "        print('Failure')\n",
    "        print(response.status_code)\n",
    "        print(response.text)        \n",
    "    print('\\n')"
   ]
  },
  {
   "cell_type": "markdown",
   "id": "763eb9d0-4e79-4a00-b8d5-6c888cdbb170",
   "metadata": {},
   "source": [
    "## Delete All User Based SA's\n",
    "\n",
    "Remove all SA for all domino users in the `domino-compute` namespace"
   ]
  },
  {
   "cell_type": "code",
   "execution_count": 12,
   "id": "414fe977-362b-4151-9a14-1f621f963a21",
   "metadata": {},
   "outputs": [
    {
     "name": "stdout",
     "output_type": "stream",
     "text": [
      "Delete url https://domino-extensions-api-svc.domino-field.svc.cluster.local/domino-sa-management-api/usersa\n",
      "Deleting K8s SA for user sameer+wadkar@dominodatalab.com\n",
      "200\n",
      "SA sameer-wadkar-dominodatalab.com  for  Domino User sameer+wadkar@dominodatalab.com deleted\n",
      "Delete url https://domino-extensions-api-svc.domino-field.svc.cluster.local/domino-sa-management-api/usersa\n",
      "Deleting K8s SA for user sameer.wadkar@dominodatalab.com\n",
      "200\n",
      "SA sameer.wadkar-dominodatalab.com  for  Domino User sameer.wadkar@dominodatalab.com deleted\n",
      "Delete url https://domino-extensions-api-svc.domino-field.svc.cluster.local/domino-sa-management-api/usersa\n",
      "Deleting K8s SA for user sameerwadkar\n"
     ]
    },
    {
     "name": "stderr",
     "output_type": "stream",
     "text": [
      "/opt/conda/lib/python3.9/site-packages/urllib3/connectionpool.py:1061: InsecureRequestWarning: Unverified HTTPS request is being made to host 'domino-extensions-api-svc.domino-field.svc.cluster.local'. Adding certificate verification is strongly advised. See: https://urllib3.readthedocs.io/en/1.26.x/advanced-usage.html#ssl-warnings\n",
      "  warnings.warn(\n",
      "/opt/conda/lib/python3.9/site-packages/urllib3/connectionpool.py:1061: InsecureRequestWarning: Unverified HTTPS request is being made to host 'domino-extensions-api-svc.domino-field.svc.cluster.local'. Adding certificate verification is strongly advised. See: https://urllib3.readthedocs.io/en/1.26.x/advanced-usage.html#ssl-warnings\n",
      "  warnings.warn(\n",
      "/opt/conda/lib/python3.9/site-packages/urllib3/connectionpool.py:1061: InsecureRequestWarning: Unverified HTTPS request is being made to host 'domino-extensions-api-svc.domino-field.svc.cluster.local'. Adding certificate verification is strongly advised. See: https://urllib3.readthedocs.io/en/1.26.x/advanced-usage.html#ssl-warnings\n",
      "  warnings.warn(\n"
     ]
    },
    {
     "name": "stdout",
     "output_type": "stream",
     "text": [
      "200\n",
      "SA sameerwadkar  for  Domino User sameerwadkar deleted\n",
      "Delete url https://domino-extensions-api-svc.domino-field.svc.cluster.local/domino-sa-management-api/usersa\n",
      "Deleting K8s SA for user sameer_wadkar\n",
      "200\n",
      "SA sameer-wadkar  for  Domino User sameer_wadkar deleted\n",
      "Delete url https://domino-extensions-api-svc.domino-field.svc.cluster.local/domino-sa-management-api/usersa\n",
      "Deleting K8s SA for user sameer-wadkar\n",
      "404\n",
      "SA does not exist for Domino User sameer-wadkar\n",
      "Delete url https://domino-extensions-api-svc.domino-field.svc.cluster.local/domino-sa-management-api/usersa\n",
      "Deleting K8s SA for user integration-test\n",
      "200\n",
      "SA integration-test  for  Domino User integration-test deleted\n"
     ]
    },
    {
     "name": "stderr",
     "output_type": "stream",
     "text": [
      "/opt/conda/lib/python3.9/site-packages/urllib3/connectionpool.py:1061: InsecureRequestWarning: Unverified HTTPS request is being made to host 'domino-extensions-api-svc.domino-field.svc.cluster.local'. Adding certificate verification is strongly advised. See: https://urllib3.readthedocs.io/en/1.26.x/advanced-usage.html#ssl-warnings\n",
      "  warnings.warn(\n",
      "/opt/conda/lib/python3.9/site-packages/urllib3/connectionpool.py:1061: InsecureRequestWarning: Unverified HTTPS request is being made to host 'domino-extensions-api-svc.domino-field.svc.cluster.local'. Adding certificate verification is strongly advised. See: https://urllib3.readthedocs.io/en/1.26.x/advanced-usage.html#ssl-warnings\n",
      "  warnings.warn(\n",
      "/opt/conda/lib/python3.9/site-packages/urllib3/connectionpool.py:1061: InsecureRequestWarning: Unverified HTTPS request is being made to host 'domino-extensions-api-svc.domino-field.svc.cluster.local'. Adding certificate verification is strongly advised. See: https://urllib3.readthedocs.io/en/1.26.x/advanced-usage.html#ssl-warnings\n",
      "  warnings.warn(\n"
     ]
    }
   ],
   "source": [
    "#Delete user SA's\n",
    "headers = utils.generate_api_key_based_request_headers()\n",
    "users = get_all_users()\n",
    "for u in users['users']:\n",
    "    name = u['userName']\n",
    "    body = {'user_name': name}\n",
    "    print(f'Delete url {manage_sa_url}')\n",
    "    print(f'Deleting K8s SA for user {name}')\n",
    "\n",
    "    response = requests.delete(manage_sa_url, headers=headers, json=body, verify=False)\n",
    "\n",
    "\n",
    "    print(response.status_code)\n",
    "    print(response.text)"
   ]
  },
  {
   "cell_type": "markdown",
   "id": "512c7ca1-4bab-4ba0-af5b-0ac5c4ccee69",
   "metadata": {},
   "source": [
    "# Example of overriding the Default Service Account by admin for a user\n",
    "\n",
    "Domino allows user names which are valid email addresses. Therefore the following are perfectly valid user-names\n",
    "- sameer-wadkar@dominodatalab.com\n",
    "- sameer+wadkar@dominodatalab.com\n",
    "\n",
    "Both translate into the same service-account - `sameer-wadkar-dominodatalab.com` which is problematic. The service will not allow you to create the next one citing that there is a duplicate SA. The Admin has the ability to override in  such cases"
   ]
  },
  {
   "cell_type": "code",
   "execution_count": null,
   "id": "0c13abdc-0782-4b20-839b-1605f1f52efb",
   "metadata": {},
   "outputs": [],
   "source": [
    "headers = utils.generate_api_key_based_request_headers()\n",
    "user_name = 'sameer+wadkar@dominodatalab.com'\n",
    "u = get_user(user_name)\n",
    "if u is not None:\n",
    "    body = {'user_name': user_name, 'user_id': u['id'], 'domino_sa':'sameer-wadkar-dominodatalab.com2'}        \n",
    "    response = requests.post(manage_sa_url, headers=headers, json=body, verify=False)\n",
    "    print(response.status_code)\n",
    "    print(response.text)"
   ]
  },
  {
   "cell_type": "code",
   "execution_count": null,
   "id": "86b37979-06b9-4a05-b881-ad258bc551fb",
   "metadata": {},
   "outputs": [],
   "source": [
    "# Get SA for a single domino user"
   ]
  },
  {
   "cell_type": "code",
   "execution_count": null,
   "id": "21f6b9b2-429b-4022-9a82-1fbda9eac2e1",
   "metadata": {},
   "outputs": [],
   "source": [
    "get_one_sa_url = urljoin(EXTENDED_API_URI, 'domino-sa-management-api/usersa')\n",
    "body = {'user_name': 'sameerwadkar'}\n",
    "response = requests.get(manage_sa_url, headers=headers, json=body, verify=False)\n",
    "print(response.status_code)\n",
    "print(response.text)"
   ]
  },
  {
   "cell_type": "code",
   "execution_count": null,
   "id": "bc66e153-fefe-4c06-9e52-87879cf085b9",
   "metadata": {},
   "outputs": [],
   "source": []
  }
 ],
 "metadata": {
  "kernelspec": {
   "display_name": "Python 3 (ipykernel)",
   "language": "python",
   "name": "python3"
  },
  "language_info": {
   "codemirror_mode": {
    "name": "ipython",
    "version": 3
   },
   "file_extension": ".py",
   "mimetype": "text/x-python",
   "name": "python",
   "nbconvert_exporter": "python",
   "pygments_lexer": "ipython3",
   "version": "3.9.18"
  }
 },
 "nbformat": 4,
 "nbformat_minor": 5
}
