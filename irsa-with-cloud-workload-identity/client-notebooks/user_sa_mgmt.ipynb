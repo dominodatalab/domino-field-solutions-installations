{
 "cells": [
  {
   "cell_type": "code",
   "execution_count": null,
   "id": "36293e2d-d83b-4bc9-a02b-d58aa8121d56",
   "metadata": {},
   "outputs": [],
   "source": [
    "import utils\n",
    "import os\n",
    "import requests\n",
    "from urllib.parse import urljoin\n",
    "import time\n",
    "import utils\n"
   ]
  },
  {
   "cell_type": "code",
   "execution_count": null,
   "id": "46f8d49f-a676-4cf1-8235-dab921da73a3",
   "metadata": {},
   "outputs": [],
   "source": [
    "os.environ['EXTENDED_API_HOST']='https://domino-extensions-api-svc.domino-field.svc.cluster.local'\n",
    "#Create user SA's\n",
    "EXTENDED_API_URI = os.environ.get('EXTENDED_API_HOST')\n",
    "\n",
    "manage_sa_url = urljoin(EXTENDED_API_URI, 'domino-sa-management-api/usersa')\n",
    "get_all_sa_url = urljoin(EXTENDED_API_URI, 'domino-sa-management-api/allusersa')"
   ]
  },
  {
   "cell_type": "markdown",
   "id": "93e66b56-e45c-4924-ad16-f05fc3bdb6c0",
   "metadata": {},
   "source": [
    "## Get All User Based SA's in the domino-compute namespace\n",
    "\n",
    "First determine if you have any user based SA's for a domino user"
   ]
  },
  {
   "cell_type": "code",
   "execution_count": null,
   "id": "f0ef73d1-0000-41c9-8703-6312f39cbf45",
   "metadata": {},
   "outputs": [],
   "source": [
    "import pandas as pd\n",
    "import json\n",
    "headers = utils.generate_api_key_based_request_headers()\n",
    "response = requests.get(get_all_sa_url, headers=headers,  verify=False)\n",
    "lst = response.json()['all_sa']\n",
    "print(f'Total number of user based k8s sa in the domino-compute namespace = {len(lst)}')\n",
    "df = pd.DataFrame(lst)\n",
    "df"
   ]
  },
  {
   "cell_type": "markdown",
   "id": "066b375d-c756-4fcc-b942-f58654246745",
   "metadata": {},
   "source": [
    "# Generate user SA for all users\n",
    "\n",
    "Generate SA for all domino users in the `domino-compute` namespace"
   ]
  },
  {
   "cell_type": "code",
   "execution_count": null,
   "id": "dfd99ce0-e3f5-49d4-930a-325b88a88310",
   "metadata": {},
   "outputs": [],
   "source": [
    "headers = utils.generate_api_key_based_request_headers()\n",
    "users = get_all_users()\n",
    "for u in users['users']:\n",
    "    id = u['id']\n",
    "    name = u['userName']\n",
    "    body = {'user_name': name, 'user_id': id, 'domino_sa': None}\n",
    "    print(f'Generating K8s SA for user {body} ')\n",
    "    response = requests.post(manage_sa_url, headers=headers, json=body, verify=False)\n",
    "    if response.status_code==200:\n",
    "        print('Success')\n",
    "        print(response.status_code)\n",
    "        print(response.text)\n",
    "    else:\n",
    "        print('Failure')\n",
    "        print(response.status_code)\n",
    "        print(response.text)        \n",
    "    print('\\n')"
   ]
  },
  {
   "cell_type": "markdown",
   "id": "763eb9d0-4e79-4a00-b8d5-6c888cdbb170",
   "metadata": {},
   "source": [
    "## Delete All User Based SA's\n",
    "\n",
    "Remove all SA for all domino users in the `domino-compute` namespace"
   ]
  },
  {
   "cell_type": "code",
   "execution_count": null,
   "id": "414fe977-362b-4151-9a14-1f621f963a21",
   "metadata": {},
   "outputs": [],
   "source": [
    "#Delete user SA's\n",
    "headers = utils.generate_api_key_based_request_headers()\n",
    "users = get_all_users()\n",
    "for u in users['users']:\n",
    "    name = u['userName']\n",
    "    body = {'user_name': name}\n",
    "    print(f'Delete url {manage_sa_url}')\n",
    "    print(f'Deleting K8s SA for user {name}')\n",
    "\n",
    "    response = requests.delete(manage_sa_url, headers=headers, json=body, verify=False)\n",
    "\n",
    "\n",
    "    print(response.status_code)\n",
    "    print(response.text)"
   ]
  },
  {
   "cell_type": "markdown",
   "id": "512c7ca1-4bab-4ba0-af5b-0ac5c4ccee69",
   "metadata": {},
   "source": [
    "# Example of overriding the Default Service Account by admin for a user\n",
    "\n",
    "Domino allows user names which are valid email addresses. Therefore the following are perfectly valid user-names\n",
    "- sameer-wadkar@dominodatalab.com\n",
    "- sameer+wadkar@dominodatalab.com\n",
    "\n",
    "Both translate into the same service-account - `sameer-wadkar-dominodatalab.com` which is problematic. The service will not allow you to create the next one citing that there is a duplicate SA. The Admin has the ability to override in  such cases"
   ]
  },
  {
   "cell_type": "code",
   "execution_count": null,
   "id": "0c13abdc-0782-4b20-839b-1605f1f52efb",
   "metadata": {},
   "outputs": [],
   "source": [
    "headers = utils.generate_api_key_based_request_headers()\n",
    "user_name = 'sameer+wadkar@dominodatalab.com'\n",
    "u = get_user(user_name)\n",
    "if u is not None:\n",
    "    body = {'user_name': user_name, 'user_id': u['id'], 'domino_sa':'sameer-wadkar-dominodatalab.com2'}        \n",
    "    response = requests.post(manage_sa_url, headers=headers, json=body, verify=False)\n",
    "    print(response.status_code)\n",
    "    print(response.text)"
   ]
  },
  {
   "cell_type": "markdown",
   "id": "f2defedb-2034-4b4e-9d9b-20a699ab9b35",
   "metadata": {},
   "source": [
    "## Get SA for a single domino user"
   ]
  },
  {
   "cell_type": "code",
   "execution_count": null,
   "id": "21f6b9b2-429b-4022-9a82-1fbda9eac2e1",
   "metadata": {},
   "outputs": [],
   "source": [
    "get_one_sa_url = urljoin(EXTENDED_API_URI, 'domino-sa-management-api/usersa')\n",
    "body = {'user_name': 'sameerwadkar'}\n",
    "response = requests.get(manage_sa_url, headers=headers, json=body, verify=False)\n",
    "print(response.status_code)\n",
    "print(response.text)"
   ]
  },
  {
   "cell_type": "code",
   "execution_count": null,
   "id": "bc66e153-fefe-4c06-9e52-87879cf085b9",
   "metadata": {},
   "outputs": [],
   "source": []
  }
 ],
 "metadata": {
  "kernelspec": {
   "display_name": "Python 3 (ipykernel)",
   "language": "python",
   "name": "python3"
  },
  "language_info": {
   "codemirror_mode": {
    "name": "ipython",
    "version": 3
   },
   "file_extension": ".py",
   "mimetype": "text/x-python",
   "name": "python",
   "nbconvert_exporter": "python",
   "pygments_lexer": "ipython3",
   "version": "3.9.18"
  }
 },
 "nbformat": 4,
 "nbformat_minor": 5
}
